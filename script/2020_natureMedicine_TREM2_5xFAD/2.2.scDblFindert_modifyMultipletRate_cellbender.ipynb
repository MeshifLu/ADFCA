{
 "cells": [
  {
   "cell_type": "code",
   "execution_count": 30,
   "id": "6fb29545-5271-4a6c-9d10-6368ba3c77ef",
   "metadata": {},
   "outputs": [],
   "source": [
    "import numpy as np\n",
    "import pandas as pd\n",
    "import scipy as sp\n",
    "import scanpy as sc\n",
    "import anndata as ad\n",
    "from glob import glob\n",
    "import matplotlib.pyplot as plt\n",
    "import matplotlib.colors as colors\n",
    "import matplotlib as mpl\n",
    "from matplotlib.pyplot import rc_context\n",
    "import os\n",
    "import seaborn as sns\n",
    "import importlib\n",
    "import re"
   ]
  },
  {
   "cell_type": "code",
   "execution_count": 67,
   "id": "05f52778-0ccd-45ab-878d-cd9cd21aa410",
   "metadata": {},
   "outputs": [
    {
     "name": "stdout",
     "output_type": "stream",
     "text": [
      "scanpy==1.9.3 anndata==0.10.8 umap==0.5.3 numpy==1.23.5 scipy==1.11.4 pandas==2.2.1 scikit-learn==1.5.1 statsmodels==0.14.2 python-igraph==0.11.6 louvain==0.8.0 pynndescent==0.5.12\n"
     ]
    }
   ],
   "source": [
    "sc.settings.verbosity = 3             # verbosity: errors (0), warnings (1), info (2), hints (3)\n",
    "sc.logging.print_header()\n",
    "sc.settings.set_figure_params(dpi=150, facecolor='white', dpi_save=900)"
   ]
  },
  {
   "cell_type": "code",
   "execution_count": 68,
   "id": "6cfb95fc-a171-45bc-8d31-0fea1f4d54b2",
   "metadata": {},
   "outputs": [],
   "source": [
    "# sns.set_theme(style=\"c\")\n",
    "# sns.set_theme(style=\"whitegrid\", palette='tab10')\n",
    "sns.set_theme(style=\"white\", palette='deep')"
   ]
  },
  {
   "cell_type": "markdown",
   "id": "04108c63-1b77-4eed-9751-238972928f3f",
   "metadata": {},
   "source": [
    "---"
   ]
  },
  {
   "cell_type": "code",
   "execution_count": 4,
   "id": "d928dbe6-17f9-45a8-80f5-d4df4c6d63ff",
   "metadata": {},
   "outputs": [
    {
     "name": "stdout",
     "output_type": "stream",
     "text": [
      "/data/tcl/Project/ADFCA/script2/GitHub_cell/2020_natureMedicine_TREM2_5xFAD\n"
     ]
    }
   ],
   "source": [
    "!pwd"
   ]
  },
  {
   "cell_type": "markdown",
   "id": "f7a38bc0-3fe4-4bfe-b48b-96fade65db1d",
   "metadata": {},
   "source": [
    "### Load all files"
   ]
  },
  {
   "cell_type": "code",
   "execution_count": 6,
   "id": "cf14c5a7-7445-48fc-b56c-57f2127f7530",
   "metadata": {},
   "outputs": [],
   "source": [
    "# allMatrixFolder='cellrangerSummary/allMatrix'\n",
    "# allDecontxFolder=f'Analysis/1.decontx_delta/decontX_outs1'\n",
    "# allSoupxFolder=f'Analysis/1.soupx/soupX_outs'\n",
    "# cellbenderFolder = f'Analysis/1.cellbender'\n",
    "# allCellbenderFolder=f'{cellbenderFolder}/cellbender_outs_h5'\n",
    "# scarFolder = f'Analysis/1.scar'"
   ]
  },
  {
   "cell_type": "code",
   "execution_count": 39,
   "id": "fec7dce3-6bcb-4d08-b137-610bad1c1059",
   "metadata": {},
   "outputs": [],
   "source": [
    "figureFolder = '/data/tcl/Project/ADFCA/Analysis/Figure'\n",
    "os.makedirs(figureFolder, exist_ok=True)"
   ]
  },
  {
   "cell_type": "code",
   "execution_count": 40,
   "id": "b2d3a591-0183-4947-856a-b19b82e99276",
   "metadata": {},
   "outputs": [],
   "source": [
    "figure4Folder=f'{figureFolder}/Figure4'\n",
    "os.makedirs(figure4Folder, exist_ok=True)\n",
    "figure4PicFolder=f'{figure4Folder}/pic'\n",
    "os.makedirs(figure4PicFolder, exist_ok=True)"
   ]
  },
  {
   "cell_type": "code",
   "execution_count": 41,
   "id": "e13064d1-d540-475f-9feb-fc3b350174a8",
   "metadata": {},
   "outputs": [],
   "source": [
    "dataName = '2020_natureMedicine_TREM2_5xFAD'\n",
    "nm2020_Folder=f'{figure4Folder}/{dataName}'\n",
    "os.makedirs(nm2020_Folder, exist_ok=True)\n",
    "nm2020_PicFolder=f'{nm2020_Folder}/pic'\n",
    "os.makedirs(nm2020_PicFolder, exist_ok=True)"
   ]
  },
  {
   "cell_type": "code",
   "execution_count": 42,
   "id": "fd35c887-decd-41e2-a23b-b4943a79ed46",
   "metadata": {},
   "outputs": [
    {
     "data": {
      "text/plain": [
       "'/data/tcl/Project/ADFCA/Analysis/Figure/Figure7/2020_natureMedicine_TREM2_5xFAD'"
      ]
     },
     "execution_count": 42,
     "metadata": {},
     "output_type": "execute_result"
    }
   ],
   "source": [
    "nm2020_Folder"
   ]
  },
  {
   "cell_type": "code",
   "execution_count": 11,
   "id": "4b37c04d-1706-4c1f-a534-a1d2ecb4201c",
   "metadata": {},
   "outputs": [],
   "source": [
    "rawDataFolder=f'/data/tcl/dataset/mouseAtlas/2020_natureMedicine_TREM2_5xFAD'"
   ]
  },
  {
   "cell_type": "code",
   "execution_count": 46,
   "id": "947deebd-4156-49cf-9c04-673c11649053",
   "metadata": {},
   "outputs": [],
   "source": [
    "# scDblFinderFolder='Analysis/2.scDblFinder_HT'\n",
    "scDblFinderFolder='/data/tcl/Project/ADFCA/Analysis/Figure/Figure4/2020_natureMedicine_TREM2_5xFAD/2.scDblFinder'\n",
    "os.makedirs(scDblFinderFolder, exist_ok=True)\n",
    "picFolderPath=f'{scDblFinderFolder}/pic'\n",
    "os.makedirs(picFolderPath, exist_ok=True)\n",
    "barcodeNoDoubletFolder=f'{scDblFinderFolder}/barcodeNoDoublet'\n",
    "os.makedirs(barcodeNoDoubletFolder, exist_ok=True)\n",
    "metadataFolder=f'{scDblFinderFolder}/metadata'\n",
    "os.makedirs(metadataFolder, exist_ok=True)"
   ]
  },
  {
   "cell_type": "code",
   "execution_count": 47,
   "id": "5f00e1c1-f4a6-4141-b0d0-bf56eb4e0687",
   "metadata": {},
   "outputs": [
    {
     "data": {
      "text/plain": [
       "'/data/tcl/Project/ADFCA/Analysis/Figure/Figure7/2020_natureMedicine_TREM2_5xFAD/2.scDblFinder/metadata'"
      ]
     },
     "execution_count": 47,
     "metadata": {},
     "output_type": "execute_result"
    }
   ],
   "source": [
    "metadataFolder"
   ]
  },
  {
   "cell_type": "code",
   "execution_count": 13,
   "id": "083a817e-1217-42b8-bba3-2a2ca527c44b",
   "metadata": {
    "tags": []
   },
   "outputs": [
    {
     "data": {
      "text/plain": [
       "{'GSM4173504': 'GSM4173504__7 months__wt',\n",
       " 'GSM4173505': 'GSM4173505__7 months__wt',\n",
       " 'GSM4173506': 'GSM4173506__7 months__wt',\n",
       " 'GSM4173507': 'GSM4173507__7 months__Trem2-/-',\n",
       " 'GSM4173508': 'GSM4173508__7 months__Trem2-/-',\n",
       " 'GSM4173509': 'GSM4173509__7 months__Trem2-/-',\n",
       " 'GSM4173510': 'GSM4173510__7 months__5XFAD',\n",
       " 'GSM4173511': 'GSM4173511__7 months__5XFAD',\n",
       " 'GSM4173512': 'GSM4173512__7 months__5XFAD',\n",
       " 'GSM4173513': 'GSM4173513__7 months__Trem2-/- 5XFAD',\n",
       " 'GSM4173514': 'GSM4173514__7 months__Trem2-/- 5XFAD',\n",
       " 'GSM4173515': 'GSM4173515__7 months__Trem2-/- 5XFAD',\n",
       " 'GSM4160643': 'GSM4160643__15 months__wt',\n",
       " 'GSM4160644': 'GSM4160644__15 months__Trem2-/-',\n",
       " 'GSM4160645': 'GSM4160645__15 months__5XFAD',\n",
       " 'GSM4160646': 'GSM4160646__15 months__Trem2-/- 5XFAD',\n",
       " 'GSM4160647': 'GSM4160647__15 months__wt',\n",
       " 'GSM4160648': 'GSM4160648__15 months__Trem2-/-',\n",
       " 'GSM4160649': 'GSM4160649__15 months__5XFAD',\n",
       " 'GSM4160650': 'GSM4160650__15 months__Trem2-/- 5XFAD'}"
      ]
     },
     "execution_count": 13,
     "metadata": {},
     "output_type": "execute_result"
    }
   ],
   "source": [
    "sample_Df = pd.read_csv(f'{rawDataFolder}/SraRunTable__2020_natureMedicine_TREM2_5xFAD.csv')\n",
    "sample_Df['sampleAgeGeno'] = pd.Categorical( sample_Df['Sample Name'] + '__' + sample_Df['AGE'] + '__' + sample_Df['mouse_genotype'] )\n",
    "sample_D = dict(zip(sample_Df['Sample Name'], sample_Df['sampleAgeGeno']))\n",
    "sample_D"
   ]
  },
  {
   "cell_type": "code",
   "execution_count": 24,
   "id": "bdc7dfbd-117f-42c9-a480-1ce185c4dce8",
   "metadata": {},
   "outputs": [
    {
     "data": {
      "text/plain": [
       "['GSM4160643_WT_Cor',\n",
       " 'GSM4160644_Trem2_KO_Cor',\n",
       " 'GSM4160645_WT_5XFAD_Cor',\n",
       " 'GSM4160646_Trem2_KO_5XFAD_Cor',\n",
       " 'GSM4160647_WT_Hip',\n",
       " 'GSM4160648_Trem2_KO_Hip',\n",
       " 'GSM4160649_WT_5XFAD_Hip',\n",
       " 'GSM4160650_Trem2_KO_5XFAD_Hip',\n",
       " 'GSM4173504_WT_1',\n",
       " 'GSM4173505_WT_2',\n",
       " 'GSM4173506_WT_3',\n",
       " 'GSM4173507_Trem2_KO_1',\n",
       " 'GSM4173508_Trem2_KO_2',\n",
       " 'GSM4173509_Trem2_KO_3',\n",
       " 'GSM4173510_WT_5XFAD_1',\n",
       " 'GSM4173511_WT_5XFAD_2',\n",
       " 'GSM4173512_WT_5XFAD_3',\n",
       " 'GSM4173513_Trem2_KO_5XFAD_1',\n",
       " 'GSM4173514_Trem2_KO_5XFAD_2',\n",
       " 'GSM4173515_Trem2_KO_5XFAD_3']"
      ]
     },
     "execution_count": 24,
     "metadata": {},
     "output_type": "execute_result"
    }
   ],
   "source": [
    "sample_L = [mtxFile.split('/')[-1].split('_matrix.mtx.gz')[0] for mtxFile in sorted(glob(f'{rawDataFolder}/dataset/*_matrix.mtx.gz'))]\n",
    "sample_L"
   ]
  },
  {
   "cell_type": "code",
   "execution_count": 14,
   "id": "f1836725-eaa8-4819-a7cc-168e7aed4f6f",
   "metadata": {},
   "outputs": [
    {
     "data": {
      "text/html": [
       "<div>\n",
       "<style scoped>\n",
       "    .dataframe tbody tr th:only-of-type {\n",
       "        vertical-align: middle;\n",
       "    }\n",
       "\n",
       "    .dataframe tbody tr th {\n",
       "        vertical-align: top;\n",
       "    }\n",
       "\n",
       "    .dataframe thead th {\n",
       "        text-align: right;\n",
       "    }\n",
       "</style>\n",
       "<table border=\"1\" class=\"dataframe\">\n",
       "  <thead>\n",
       "    <tr style=\"text-align: right;\">\n",
       "      <th></th>\n",
       "      <th>Run</th>\n",
       "      <th>AGE</th>\n",
       "      <th>Assay Type</th>\n",
       "      <th>AssemblyName</th>\n",
       "      <th>AvgSpotLen</th>\n",
       "      <th>Bases</th>\n",
       "      <th>BioProject</th>\n",
       "      <th>BioSample</th>\n",
       "      <th>Bytes</th>\n",
       "      <th>Center Name</th>\n",
       "      <th>...</th>\n",
       "      <th>Platform</th>\n",
       "      <th>ReleaseDate</th>\n",
       "      <th>create_date</th>\n",
       "      <th>version</th>\n",
       "      <th>Sample Name</th>\n",
       "      <th>source_name</th>\n",
       "      <th>SRA Study</th>\n",
       "      <th>strain</th>\n",
       "      <th>tissue</th>\n",
       "      <th>sampleAgeGeno</th>\n",
       "    </tr>\n",
       "  </thead>\n",
       "  <tbody>\n",
       "    <tr>\n",
       "      <th>0</th>\n",
       "      <td>SRR10480618</td>\n",
       "      <td>7 months</td>\n",
       "      <td>RNA-Seq</td>\n",
       "      <td>GCF_000001635.20</td>\n",
       "      <td>276</td>\n",
       "      <td>163094438052</td>\n",
       "      <td>PRJNA590042</td>\n",
       "      <td>SAMN13316167</td>\n",
       "      <td>36319329685</td>\n",
       "      <td>GEO</td>\n",
       "      <td>...</td>\n",
       "      <td>ILLUMINA</td>\n",
       "      <td>2020-01-01T00:00:00Z</td>\n",
       "      <td>2019-11-18T08:03:00Z</td>\n",
       "      <td>1</td>\n",
       "      <td>GSM4173504</td>\n",
       "      <td>Isolated single nuclei from brain of wild type...</td>\n",
       "      <td>SRP230293</td>\n",
       "      <td>B6</td>\n",
       "      <td>nuclei of brain</td>\n",
       "      <td>GSM4173504__7 months__wt</td>\n",
       "    </tr>\n",
       "    <tr>\n",
       "      <th>1</th>\n",
       "      <td>SRR10480619</td>\n",
       "      <td>7 months</td>\n",
       "      <td>RNA-Seq</td>\n",
       "      <td>GCF_000001635.20</td>\n",
       "      <td>276</td>\n",
       "      <td>167985800304</td>\n",
       "      <td>PRJNA590042</td>\n",
       "      <td>SAMN13316166</td>\n",
       "      <td>34943184160</td>\n",
       "      <td>GEO</td>\n",
       "      <td>...</td>\n",
       "      <td>ILLUMINA</td>\n",
       "      <td>2020-01-01T00:00:00Z</td>\n",
       "      <td>2019-11-18T09:26:00Z</td>\n",
       "      <td>1</td>\n",
       "      <td>GSM4173505</td>\n",
       "      <td>Isolated single nuclei from brain of wild type...</td>\n",
       "      <td>SRP230293</td>\n",
       "      <td>B6</td>\n",
       "      <td>nuclei of brain</td>\n",
       "      <td>GSM4173505__7 months__wt</td>\n",
       "    </tr>\n",
       "    <tr>\n",
       "      <th>2</th>\n",
       "      <td>SRR10480620</td>\n",
       "      <td>7 months</td>\n",
       "      <td>RNA-Seq</td>\n",
       "      <td>GCF_000001635.20</td>\n",
       "      <td>276</td>\n",
       "      <td>147232054824</td>\n",
       "      <td>PRJNA590042</td>\n",
       "      <td>SAMN13316165</td>\n",
       "      <td>31652078260</td>\n",
       "      <td>GEO</td>\n",
       "      <td>...</td>\n",
       "      <td>ILLUMINA</td>\n",
       "      <td>2020-01-01T00:00:00Z</td>\n",
       "      <td>2019-11-18T09:24:00Z</td>\n",
       "      <td>1</td>\n",
       "      <td>GSM4173506</td>\n",
       "      <td>Isolated single nuclei from brain of wild type...</td>\n",
       "      <td>SRP230293</td>\n",
       "      <td>B6</td>\n",
       "      <td>nuclei of brain</td>\n",
       "      <td>GSM4173506__7 months__wt</td>\n",
       "    </tr>\n",
       "    <tr>\n",
       "      <th>3</th>\n",
       "      <td>SRR10480621</td>\n",
       "      <td>7 months</td>\n",
       "      <td>RNA-Seq</td>\n",
       "      <td>GCF_000001635.20</td>\n",
       "      <td>276</td>\n",
       "      <td>166532303712</td>\n",
       "      <td>PRJNA590042</td>\n",
       "      <td>SAMN13316164</td>\n",
       "      <td>36122391700</td>\n",
       "      <td>GEO</td>\n",
       "      <td>...</td>\n",
       "      <td>ILLUMINA</td>\n",
       "      <td>2020-01-01T00:00:00Z</td>\n",
       "      <td>2019-11-18T07:39:00Z</td>\n",
       "      <td>1</td>\n",
       "      <td>GSM4173507</td>\n",
       "      <td>Isolated single nuclei from brain of Trem2 KO ...</td>\n",
       "      <td>SRP230293</td>\n",
       "      <td>B6</td>\n",
       "      <td>nuclei of brain</td>\n",
       "      <td>GSM4173507__7 months__Trem2-/-</td>\n",
       "    </tr>\n",
       "    <tr>\n",
       "      <th>4</th>\n",
       "      <td>SRR10480622</td>\n",
       "      <td>7 months</td>\n",
       "      <td>RNA-Seq</td>\n",
       "      <td>GCF_000001635.20</td>\n",
       "      <td>276</td>\n",
       "      <td>151790980044</td>\n",
       "      <td>PRJNA590042</td>\n",
       "      <td>SAMN13316163</td>\n",
       "      <td>33433033569</td>\n",
       "      <td>GEO</td>\n",
       "      <td>...</td>\n",
       "      <td>ILLUMINA</td>\n",
       "      <td>2020-01-01T00:00:00Z</td>\n",
       "      <td>2019-11-18T06:54:00Z</td>\n",
       "      <td>1</td>\n",
       "      <td>GSM4173508</td>\n",
       "      <td>Isolated single nuclei from brain of Trem2 KO ...</td>\n",
       "      <td>SRP230293</td>\n",
       "      <td>B6</td>\n",
       "      <td>nuclei of brain</td>\n",
       "      <td>GSM4173508__7 months__Trem2-/-</td>\n",
       "    </tr>\n",
       "  </tbody>\n",
       "</table>\n",
       "<p>5 rows × 33 columns</p>\n",
       "</div>"
      ],
      "text/plain": [
       "           Run       AGE Assay Type      AssemblyName  AvgSpotLen  \\\n",
       "0  SRR10480618  7 months    RNA-Seq  GCF_000001635.20         276   \n",
       "1  SRR10480619  7 months    RNA-Seq  GCF_000001635.20         276   \n",
       "2  SRR10480620  7 months    RNA-Seq  GCF_000001635.20         276   \n",
       "3  SRR10480621  7 months    RNA-Seq  GCF_000001635.20         276   \n",
       "4  SRR10480622  7 months    RNA-Seq  GCF_000001635.20         276   \n",
       "\n",
       "          Bases   BioProject     BioSample        Bytes Center Name  ...  \\\n",
       "0  163094438052  PRJNA590042  SAMN13316167  36319329685         GEO  ...   \n",
       "1  167985800304  PRJNA590042  SAMN13316166  34943184160         GEO  ...   \n",
       "2  147232054824  PRJNA590042  SAMN13316165  31652078260         GEO  ...   \n",
       "3  166532303712  PRJNA590042  SAMN13316164  36122391700         GEO  ...   \n",
       "4  151790980044  PRJNA590042  SAMN13316163  33433033569         GEO  ...   \n",
       "\n",
       "   Platform           ReleaseDate           create_date version Sample Name  \\\n",
       "0  ILLUMINA  2020-01-01T00:00:00Z  2019-11-18T08:03:00Z       1  GSM4173504   \n",
       "1  ILLUMINA  2020-01-01T00:00:00Z  2019-11-18T09:26:00Z       1  GSM4173505   \n",
       "2  ILLUMINA  2020-01-01T00:00:00Z  2019-11-18T09:24:00Z       1  GSM4173506   \n",
       "3  ILLUMINA  2020-01-01T00:00:00Z  2019-11-18T07:39:00Z       1  GSM4173507   \n",
       "4  ILLUMINA  2020-01-01T00:00:00Z  2019-11-18T06:54:00Z       1  GSM4173508   \n",
       "\n",
       "                                         source_name  SRA Study  strain  \\\n",
       "0  Isolated single nuclei from brain of wild type...  SRP230293      B6   \n",
       "1  Isolated single nuclei from brain of wild type...  SRP230293      B6   \n",
       "2  Isolated single nuclei from brain of wild type...  SRP230293      B6   \n",
       "3  Isolated single nuclei from brain of Trem2 KO ...  SRP230293      B6   \n",
       "4  Isolated single nuclei from brain of Trem2 KO ...  SRP230293      B6   \n",
       "\n",
       "            tissue                   sampleAgeGeno  \n",
       "0  nuclei of brain        GSM4173504__7 months__wt  \n",
       "1  nuclei of brain        GSM4173505__7 months__wt  \n",
       "2  nuclei of brain        GSM4173506__7 months__wt  \n",
       "3  nuclei of brain  GSM4173507__7 months__Trem2-/-  \n",
       "4  nuclei of brain  GSM4173508__7 months__Trem2-/-  \n",
       "\n",
       "[5 rows x 33 columns]"
      ]
     },
     "execution_count": 14,
     "metadata": {},
     "output_type": "execute_result"
    }
   ],
   "source": [
    "sample_Df.head()"
   ]
  },
  {
   "cell_type": "markdown",
   "id": "9499858c-13b2-4cd2-8fe2-86005bccb4ac",
   "metadata": {
    "tags": []
   },
   "source": [
    "# Add cellN"
   ]
  },
  {
   "cell_type": "code",
   "execution_count": 53,
   "id": "a28fd9e7-0877-4d06-87f6-adb6207827ca",
   "metadata": {},
   "outputs": [
    {
     "data": {
      "text/html": [
       "<div>\n",
       "<style scoped>\n",
       "    .dataframe tbody tr th:only-of-type {\n",
       "        vertical-align: middle;\n",
       "    }\n",
       "\n",
       "    .dataframe tbody tr th {\n",
       "        vertical-align: top;\n",
       "    }\n",
       "\n",
       "    .dataframe thead th {\n",
       "        text-align: right;\n",
       "    }\n",
       "</style>\n",
       "<table border=\"1\" class=\"dataframe\">\n",
       "  <thead>\n",
       "    <tr style=\"text-align: right;\">\n",
       "      <th></th>\n",
       "      <th>scExpName</th>\n",
       "      <th>TotalCellNum</th>\n",
       "      <th>scDblFinderCellN</th>\n",
       "    </tr>\n",
       "  </thead>\n",
       "  <tbody>\n",
       "    <tr>\n",
       "      <th>0</th>\n",
       "      <td>GSM4160643_WT_Cor</td>\n",
       "      <td>NaN</td>\n",
       "      <td>NaN</td>\n",
       "    </tr>\n",
       "    <tr>\n",
       "      <th>1</th>\n",
       "      <td>GSM4160644_Trem2_KO_Cor</td>\n",
       "      <td>NaN</td>\n",
       "      <td>NaN</td>\n",
       "    </tr>\n",
       "    <tr>\n",
       "      <th>2</th>\n",
       "      <td>GSM4160645_WT_5XFAD_Cor</td>\n",
       "      <td>NaN</td>\n",
       "      <td>NaN</td>\n",
       "    </tr>\n",
       "    <tr>\n",
       "      <th>3</th>\n",
       "      <td>GSM4160646_Trem2_KO_5XFAD_Cor</td>\n",
       "      <td>NaN</td>\n",
       "      <td>NaN</td>\n",
       "    </tr>\n",
       "    <tr>\n",
       "      <th>4</th>\n",
       "      <td>GSM4160647_WT_Hip</td>\n",
       "      <td>NaN</td>\n",
       "      <td>NaN</td>\n",
       "    </tr>\n",
       "    <tr>\n",
       "      <th>5</th>\n",
       "      <td>GSM4160648_Trem2_KO_Hip</td>\n",
       "      <td>NaN</td>\n",
       "      <td>NaN</td>\n",
       "    </tr>\n",
       "    <tr>\n",
       "      <th>6</th>\n",
       "      <td>GSM4160649_WT_5XFAD_Hip</td>\n",
       "      <td>NaN</td>\n",
       "      <td>NaN</td>\n",
       "    </tr>\n",
       "    <tr>\n",
       "      <th>7</th>\n",
       "      <td>GSM4160650_Trem2_KO_5XFAD_Hip</td>\n",
       "      <td>NaN</td>\n",
       "      <td>NaN</td>\n",
       "    </tr>\n",
       "    <tr>\n",
       "      <th>8</th>\n",
       "      <td>GSM4173504_WT_1</td>\n",
       "      <td>NaN</td>\n",
       "      <td>NaN</td>\n",
       "    </tr>\n",
       "    <tr>\n",
       "      <th>9</th>\n",
       "      <td>GSM4173505_WT_2</td>\n",
       "      <td>NaN</td>\n",
       "      <td>NaN</td>\n",
       "    </tr>\n",
       "    <tr>\n",
       "      <th>10</th>\n",
       "      <td>GSM4173506_WT_3</td>\n",
       "      <td>NaN</td>\n",
       "      <td>NaN</td>\n",
       "    </tr>\n",
       "    <tr>\n",
       "      <th>11</th>\n",
       "      <td>GSM4173507_Trem2_KO_1</td>\n",
       "      <td>NaN</td>\n",
       "      <td>NaN</td>\n",
       "    </tr>\n",
       "    <tr>\n",
       "      <th>12</th>\n",
       "      <td>GSM4173508_Trem2_KO_2</td>\n",
       "      <td>NaN</td>\n",
       "      <td>NaN</td>\n",
       "    </tr>\n",
       "    <tr>\n",
       "      <th>13</th>\n",
       "      <td>GSM4173509_Trem2_KO_3</td>\n",
       "      <td>NaN</td>\n",
       "      <td>NaN</td>\n",
       "    </tr>\n",
       "    <tr>\n",
       "      <th>14</th>\n",
       "      <td>GSM4173510_WT_5XFAD_1</td>\n",
       "      <td>NaN</td>\n",
       "      <td>NaN</td>\n",
       "    </tr>\n",
       "    <tr>\n",
       "      <th>15</th>\n",
       "      <td>GSM4173511_WT_5XFAD_2</td>\n",
       "      <td>NaN</td>\n",
       "      <td>NaN</td>\n",
       "    </tr>\n",
       "    <tr>\n",
       "      <th>16</th>\n",
       "      <td>GSM4173512_WT_5XFAD_3</td>\n",
       "      <td>NaN</td>\n",
       "      <td>NaN</td>\n",
       "    </tr>\n",
       "    <tr>\n",
       "      <th>17</th>\n",
       "      <td>GSM4173513_Trem2_KO_5XFAD_1</td>\n",
       "      <td>NaN</td>\n",
       "      <td>NaN</td>\n",
       "    </tr>\n",
       "    <tr>\n",
       "      <th>18</th>\n",
       "      <td>GSM4173514_Trem2_KO_5XFAD_2</td>\n",
       "      <td>NaN</td>\n",
       "      <td>NaN</td>\n",
       "    </tr>\n",
       "    <tr>\n",
       "      <th>19</th>\n",
       "      <td>GSM4173515_Trem2_KO_5XFAD_3</td>\n",
       "      <td>NaN</td>\n",
       "      <td>NaN</td>\n",
       "    </tr>\n",
       "  </tbody>\n",
       "</table>\n",
       "</div>"
      ],
      "text/plain": [
       "                        scExpName TotalCellNum scDblFinderCellN\n",
       "0               GSM4160643_WT_Cor          NaN              NaN\n",
       "1         GSM4160644_Trem2_KO_Cor          NaN              NaN\n",
       "2         GSM4160645_WT_5XFAD_Cor          NaN              NaN\n",
       "3   GSM4160646_Trem2_KO_5XFAD_Cor          NaN              NaN\n",
       "4               GSM4160647_WT_Hip          NaN              NaN\n",
       "5         GSM4160648_Trem2_KO_Hip          NaN              NaN\n",
       "6         GSM4160649_WT_5XFAD_Hip          NaN              NaN\n",
       "7   GSM4160650_Trem2_KO_5XFAD_Hip          NaN              NaN\n",
       "8                 GSM4173504_WT_1          NaN              NaN\n",
       "9                 GSM4173505_WT_2          NaN              NaN\n",
       "10                GSM4173506_WT_3          NaN              NaN\n",
       "11          GSM4173507_Trem2_KO_1          NaN              NaN\n",
       "12          GSM4173508_Trem2_KO_2          NaN              NaN\n",
       "13          GSM4173509_Trem2_KO_3          NaN              NaN\n",
       "14          GSM4173510_WT_5XFAD_1          NaN              NaN\n",
       "15          GSM4173511_WT_5XFAD_2          NaN              NaN\n",
       "16          GSM4173512_WT_5XFAD_3          NaN              NaN\n",
       "17    GSM4173513_Trem2_KO_5XFAD_1          NaN              NaN\n",
       "18    GSM4173514_Trem2_KO_5XFAD_2          NaN              NaN\n",
       "19    GSM4173515_Trem2_KO_5XFAD_3          NaN              NaN"
      ]
     },
     "execution_count": 53,
     "metadata": {},
     "output_type": "execute_result"
    }
   ],
   "source": [
    "cellN_Df = pd.DataFrame(columns=['scExpName', 'TotalCellNum', 'scDblFinderCellN'])\n",
    "cellN_Df['scExpName'] = sample_L\n",
    "cellN_Df"
   ]
  },
  {
   "cell_type": "code",
   "execution_count": 55,
   "id": "21612cc0-8624-45a6-9552-947c7ed0ba56",
   "metadata": {},
   "outputs": [
    {
     "data": {
      "text/html": [
       "<div>\n",
       "<style scoped>\n",
       "    .dataframe tbody tr th:only-of-type {\n",
       "        vertical-align: middle;\n",
       "    }\n",
       "\n",
       "    .dataframe tbody tr th {\n",
       "        vertical-align: top;\n",
       "    }\n",
       "\n",
       "    .dataframe thead th {\n",
       "        text-align: right;\n",
       "    }\n",
       "</style>\n",
       "<table border=\"1\" class=\"dataframe\">\n",
       "  <thead>\n",
       "    <tr style=\"text-align: right;\">\n",
       "      <th></th>\n",
       "      <th>orig.ident</th>\n",
       "      <th>nCount_RNA</th>\n",
       "      <th>nFeature_RNA</th>\n",
       "      <th>percent.mt</th>\n",
       "      <th>RNA_snn_res.0.8</th>\n",
       "      <th>seurat_clusters</th>\n",
       "      <th>scDblFinder.score</th>\n",
       "      <th>scDblFinder.class</th>\n",
       "    </tr>\n",
       "  </thead>\n",
       "  <tbody>\n",
       "    <tr>\n",
       "      <th>AAACCTGAGACCCACC-1</th>\n",
       "      <td>SeuratProject</td>\n",
       "      <td>2018</td>\n",
       "      <td>708</td>\n",
       "      <td>0.396432</td>\n",
       "      <td>2</td>\n",
       "      <td>2</td>\n",
       "      <td>0.045086</td>\n",
       "      <td>singlet</td>\n",
       "    </tr>\n",
       "    <tr>\n",
       "      <th>AAACCTGAGAGTAAGG-1</th>\n",
       "      <td>SeuratProject</td>\n",
       "      <td>952</td>\n",
       "      <td>403</td>\n",
       "      <td>0.105042</td>\n",
       "      <td>3</td>\n",
       "      <td>3</td>\n",
       "      <td>0.000203</td>\n",
       "      <td>singlet</td>\n",
       "    </tr>\n",
       "    <tr>\n",
       "      <th>AAACCTGAGCATGGCA-1</th>\n",
       "      <td>SeuratProject</td>\n",
       "      <td>668</td>\n",
       "      <td>295</td>\n",
       "      <td>1.197605</td>\n",
       "      <td>4</td>\n",
       "      <td>4</td>\n",
       "      <td>0.000356</td>\n",
       "      <td>singlet</td>\n",
       "    </tr>\n",
       "    <tr>\n",
       "      <th>AAACCTGAGCGATGAC-1</th>\n",
       "      <td>SeuratProject</td>\n",
       "      <td>1447</td>\n",
       "      <td>769</td>\n",
       "      <td>0.552868</td>\n",
       "      <td>0</td>\n",
       "      <td>0</td>\n",
       "      <td>0.038872</td>\n",
       "      <td>singlet</td>\n",
       "    </tr>\n",
       "    <tr>\n",
       "      <th>AAACCTGAGTCAAGCG-1</th>\n",
       "      <td>SeuratProject</td>\n",
       "      <td>1893</td>\n",
       "      <td>878</td>\n",
       "      <td>0.475436</td>\n",
       "      <td>1</td>\n",
       "      <td>1</td>\n",
       "      <td>0.012633</td>\n",
       "      <td>singlet</td>\n",
       "    </tr>\n",
       "    <tr>\n",
       "      <th>...</th>\n",
       "      <td>...</td>\n",
       "      <td>...</td>\n",
       "      <td>...</td>\n",
       "      <td>...</td>\n",
       "      <td>...</td>\n",
       "      <td>...</td>\n",
       "      <td>...</td>\n",
       "      <td>...</td>\n",
       "    </tr>\n",
       "    <tr>\n",
       "      <th>TTTGTCATCCGCGCAA-1</th>\n",
       "      <td>SeuratProject</td>\n",
       "      <td>765</td>\n",
       "      <td>410</td>\n",
       "      <td>0.261438</td>\n",
       "      <td>3</td>\n",
       "      <td>3</td>\n",
       "      <td>0.000326</td>\n",
       "      <td>singlet</td>\n",
       "    </tr>\n",
       "    <tr>\n",
       "      <th>TTTGTCATCGATGAGG-1</th>\n",
       "      <td>SeuratProject</td>\n",
       "      <td>1464</td>\n",
       "      <td>596</td>\n",
       "      <td>0.409836</td>\n",
       "      <td>1</td>\n",
       "      <td>1</td>\n",
       "      <td>0.004077</td>\n",
       "      <td>singlet</td>\n",
       "    </tr>\n",
       "    <tr>\n",
       "      <th>TTTGTCATCGCAGGCT-1</th>\n",
       "      <td>SeuratProject</td>\n",
       "      <td>910</td>\n",
       "      <td>471</td>\n",
       "      <td>0.989011</td>\n",
       "      <td>2</td>\n",
       "      <td>2</td>\n",
       "      <td>0.002620</td>\n",
       "      <td>singlet</td>\n",
       "    </tr>\n",
       "    <tr>\n",
       "      <th>TTTGTCATCGTTGACA-1</th>\n",
       "      <td>SeuratProject</td>\n",
       "      <td>623</td>\n",
       "      <td>343</td>\n",
       "      <td>2.407705</td>\n",
       "      <td>4</td>\n",
       "      <td>4</td>\n",
       "      <td>0.133939</td>\n",
       "      <td>singlet</td>\n",
       "    </tr>\n",
       "    <tr>\n",
       "      <th>TTTGTCATCTCTGAGA-1</th>\n",
       "      <td>SeuratProject</td>\n",
       "      <td>1807</td>\n",
       "      <td>781</td>\n",
       "      <td>1.272828</td>\n",
       "      <td>1</td>\n",
       "      <td>1</td>\n",
       "      <td>0.010690</td>\n",
       "      <td>singlet</td>\n",
       "    </tr>\n",
       "  </tbody>\n",
       "</table>\n",
       "<p>10549 rows × 8 columns</p>\n",
       "</div>"
      ],
      "text/plain": [
       "                       orig.ident  nCount_RNA  nFeature_RNA  percent.mt  \\\n",
       "AAACCTGAGACCCACC-1  SeuratProject        2018           708    0.396432   \n",
       "AAACCTGAGAGTAAGG-1  SeuratProject         952           403    0.105042   \n",
       "AAACCTGAGCATGGCA-1  SeuratProject         668           295    1.197605   \n",
       "AAACCTGAGCGATGAC-1  SeuratProject        1447           769    0.552868   \n",
       "AAACCTGAGTCAAGCG-1  SeuratProject        1893           878    0.475436   \n",
       "...                           ...         ...           ...         ...   \n",
       "TTTGTCATCCGCGCAA-1  SeuratProject         765           410    0.261438   \n",
       "TTTGTCATCGATGAGG-1  SeuratProject        1464           596    0.409836   \n",
       "TTTGTCATCGCAGGCT-1  SeuratProject         910           471    0.989011   \n",
       "TTTGTCATCGTTGACA-1  SeuratProject         623           343    2.407705   \n",
       "TTTGTCATCTCTGAGA-1  SeuratProject        1807           781    1.272828   \n",
       "\n",
       "                    RNA_snn_res.0.8  seurat_clusters  scDblFinder.score  \\\n",
       "AAACCTGAGACCCACC-1                2                2           0.045086   \n",
       "AAACCTGAGAGTAAGG-1                3                3           0.000203   \n",
       "AAACCTGAGCATGGCA-1                4                4           0.000356   \n",
       "AAACCTGAGCGATGAC-1                0                0           0.038872   \n",
       "AAACCTGAGTCAAGCG-1                1                1           0.012633   \n",
       "...                             ...              ...                ...   \n",
       "TTTGTCATCCGCGCAA-1                3                3           0.000326   \n",
       "TTTGTCATCGATGAGG-1                1                1           0.004077   \n",
       "TTTGTCATCGCAGGCT-1                2                2           0.002620   \n",
       "TTTGTCATCGTTGACA-1                4                4           0.133939   \n",
       "TTTGTCATCTCTGAGA-1                1                1           0.010690   \n",
       "\n",
       "                   scDblFinder.class  \n",
       "AAACCTGAGACCCACC-1           singlet  \n",
       "AAACCTGAGAGTAAGG-1           singlet  \n",
       "AAACCTGAGCATGGCA-1           singlet  \n",
       "AAACCTGAGCGATGAC-1           singlet  \n",
       "AAACCTGAGTCAAGCG-1           singlet  \n",
       "...                              ...  \n",
       "TTTGTCATCCGCGCAA-1           singlet  \n",
       "TTTGTCATCGATGAGG-1           singlet  \n",
       "TTTGTCATCGCAGGCT-1           singlet  \n",
       "TTTGTCATCGTTGACA-1           singlet  \n",
       "TTTGTCATCTCTGAGA-1           singlet  \n",
       "\n",
       "[10549 rows x 8 columns]"
      ]
     },
     "execution_count": 55,
     "metadata": {},
     "output_type": "execute_result"
    }
   ],
   "source": [
    "metadataDf"
   ]
  },
  {
   "cell_type": "code",
   "execution_count": 57,
   "id": "8f297a64-95da-47d8-978c-3df526540d3a",
   "metadata": {},
   "outputs": [
    {
     "data": {
      "text/html": [
       "<div>\n",
       "<style scoped>\n",
       "    .dataframe tbody tr th:only-of-type {\n",
       "        vertical-align: middle;\n",
       "    }\n",
       "\n",
       "    .dataframe tbody tr th {\n",
       "        vertical-align: top;\n",
       "    }\n",
       "\n",
       "    .dataframe thead th {\n",
       "        text-align: right;\n",
       "    }\n",
       "</style>\n",
       "<table border=\"1\" class=\"dataframe\">\n",
       "  <thead>\n",
       "    <tr style=\"text-align: right;\">\n",
       "      <th></th>\n",
       "      <th>n_genes</th>\n",
       "    </tr>\n",
       "  </thead>\n",
       "  <tbody>\n",
       "  </tbody>\n",
       "</table>\n",
       "</div>"
      ],
      "text/plain": [
       "Empty DataFrame\n",
       "Columns: [n_genes]\n",
       "Index: []"
      ]
     },
     "execution_count": 57,
     "metadata": {},
     "output_type": "execute_result"
    }
   ],
   "source": [
    "adata.obs"
   ]
  },
  {
   "cell_type": "code",
   "execution_count": 58,
   "id": "05e19626-7931-481a-89a1-312da550b753",
   "metadata": {},
   "outputs": [
    {
     "data": {
      "text/html": [
       "<div>\n",
       "<style scoped>\n",
       "    .dataframe tbody tr th:only-of-type {\n",
       "        vertical-align: middle;\n",
       "    }\n",
       "\n",
       "    .dataframe tbody tr th {\n",
       "        vertical-align: top;\n",
       "    }\n",
       "\n",
       "    .dataframe thead th {\n",
       "        text-align: right;\n",
       "    }\n",
       "</style>\n",
       "<table border=\"1\" class=\"dataframe\">\n",
       "  <thead>\n",
       "    <tr style=\"text-align: right;\">\n",
       "      <th></th>\n",
       "    </tr>\n",
       "  </thead>\n",
       "  <tbody>\n",
       "    <tr>\n",
       "      <th>AAACCTGAGACCCACC-1_GSM4160644</th>\n",
       "    </tr>\n",
       "    <tr>\n",
       "      <th>AAACCTGAGCCGTCGT-1_GSM4160644</th>\n",
       "    </tr>\n",
       "    <tr>\n",
       "      <th>AAACCTGAGCGATATA-1_GSM4160644</th>\n",
       "    </tr>\n",
       "    <tr>\n",
       "      <th>AAACCTGAGGATGTAT-1_GSM4160644</th>\n",
       "    </tr>\n",
       "    <tr>\n",
       "      <th>AAACCTGAGTTCGCAT-1_GSM4160644</th>\n",
       "    </tr>\n",
       "    <tr>\n",
       "      <th>...</th>\n",
       "    </tr>\n",
       "    <tr>\n",
       "      <th>TTTGTCATCCTAGGGC-1_GSM4160644</th>\n",
       "    </tr>\n",
       "    <tr>\n",
       "      <th>TTTGTCATCGTGGGAA-1_GSM4160644</th>\n",
       "    </tr>\n",
       "    <tr>\n",
       "      <th>TTTGTCATCTCGCATC-1_GSM4160644</th>\n",
       "    </tr>\n",
       "    <tr>\n",
       "      <th>TTTGTCATCTTACCTA-1_GSM4160644</th>\n",
       "    </tr>\n",
       "    <tr>\n",
       "      <th>TTTGTCATCTTCGGTC-1_GSM4160644</th>\n",
       "    </tr>\n",
       "  </tbody>\n",
       "</table>\n",
       "<p>6912 rows × 0 columns</p>\n",
       "</div>"
      ],
      "text/plain": [
       "Empty DataFrame\n",
       "Columns: []\n",
       "Index: [AAACCTGAGACCCACC-1_GSM4160644, AAACCTGAGCCGTCGT-1_GSM4160644, AAACCTGAGCGATATA-1_GSM4160644, AAACCTGAGGATGTAT-1_GSM4160644, AAACCTGAGTTCGCAT-1_GSM4160644, AAACCTGCAACTGCTA-1_GSM4160644, AAACCTGCAATCCGAT-1_GSM4160644, AAACCTGCAGCGTAAG-1_GSM4160644, AAACCTGCAGGTCCAC-1_GSM4160644, AAACCTGCATGCAATC-1_GSM4160644, AAACCTGGTTTGGCGC-1_GSM4160644, AAACCTGTCAGCCTAA-1_GSM4160644, AAACCTGTCCAAAGTC-1_GSM4160644, AAACCTGTCCAGGGCT-1_GSM4160644, AAACCTGTCGCCAGCA-1_GSM4160644, AAACCTGTCGGATGTT-1_GSM4160644, AAACCTGTCGGTCCGA-1_GSM4160644, AAACGGGAGACATAAC-1_GSM4160644, AAACGGGAGATCCGAG-1_GSM4160644, AAACGGGAGGAATCGC-1_GSM4160644, AAACGGGAGTGACATA-1_GSM4160644, AAACGGGAGTTAACGA-1_GSM4160644, AAACGGGCAAGTCTAC-1_GSM4160644, AAACGGGCACTACAGT-1_GSM4160644, AAACGGGCAGCTCGCA-1_GSM4160644, AAACGGGCATACTACG-1_GSM4160644, AAACGGGCATCCTTGC-1_GSM4160644, AAACGGGGTACATCCA-1_GSM4160644, AAACGGGGTACTTCTT-1_GSM4160644, AAACGGGGTCGTCTTC-1_GSM4160644, AAACGGGTCTTAGAGC-1_GSM4160644, AAACGGGTCTTCAACT-1_GSM4160644, AAACGGGTCTTGTACT-1_GSM4160644, AAAGATGAGTATCTCG-1_GSM4160644, AAAGATGCAACACGCC-1_GSM4160644, AAAGATGCAGGACGTA-1_GSM4160644, AAAGATGGTAACGTTC-1_GSM4160644, AAAGATGGTATGAAAC-1_GSM4160644, AAAGATGGTCAAAGCG-1_GSM4160644, AAAGATGGTCTAGCGC-1_GSM4160644, AAAGATGGTCTAGTCA-1_GSM4160644, AAAGATGGTCTCCCTA-1_GSM4160644, AAAGATGGTTACTGAC-1_GSM4160644, AAAGATGTCATCATTC-1_GSM4160644, AAAGATGTCTGAGGGA-1_GSM4160644, AAAGATGTCTGTGCAA-1_GSM4160644, AAAGCAAAGAGGTTAT-1_GSM4160644, AAAGCAAAGATGCCTT-1_GSM4160644, AAAGCAAAGCACCGTC-1_GSM4160644, AAAGCAAAGCCAGTAG-1_GSM4160644, AAAGCAACAAACCCAT-1_GSM4160644, AAAGCAACACAGATTC-1_GSM4160644, AAAGCAACATGGAATA-1_GSM4160644, AAAGCAACATTGCGGC-1_GSM4160644, AAAGCAAGTACGCACC-1_GSM4160644, AAAGCAAGTATATGGA-1_GSM4160644, AAAGCAAGTCAGAAGC-1_GSM4160644, AAAGCAAGTCCCTACT-1_GSM4160644, AAAGCAAGTCTCATCC-1_GSM4160644, AAAGCAAGTGCAGACA-1_GSM4160644, AAAGCAAGTGCTTCTC-1_GSM4160644, AAAGCAAGTTGGTTTG-1_GSM4160644, AAAGCAATCACCCGAG-1_GSM4160644, AAAGTAGAGCTACCTA-1_GSM4160644, AAAGTAGAGTACGATA-1_GSM4160644, AAAGTAGAGTGAATTG-1_GSM4160644, AAAGTAGCAGATCTGT-1_GSM4160644, AAAGTAGCAGCGAACA-1_GSM4160644, AAAGTAGGTAGAGTGC-1_GSM4160644, AAAGTAGGTATATGGA-1_GSM4160644, AAAGTAGGTGATGCCC-1_GSM4160644, AAAGTAGGTTCAGTAC-1_GSM4160644, AAAGTAGGTTCGGGCT-1_GSM4160644, AAAGTAGGTTTCGCTC-1_GSM4160644, AAAGTAGGTTTGCATG-1_GSM4160644, AAAGTAGTCAACACGT-1_GSM4160644, AAAGTAGTCCAGGGCT-1_GSM4160644, AAAGTAGTCCGTAGGC-1_GSM4160644, AAAGTAGTCGCCCTTA-1_GSM4160644, AAATGCCAGACGCAAC-1_GSM4160644, AAATGCCAGATACACA-1_GSM4160644, AAATGCCAGATGGGTC-1_GSM4160644, AAATGCCAGCCCAATT-1_GSM4160644, AAATGCCAGCTCCCAG-1_GSM4160644, AAATGCCAGTGGAGAA-1_GSM4160644, AAATGCCCAAATTGCC-1_GSM4160644, AAATGCCCAATCTACG-1_GSM4160644, AAATGCCCAATGGTCT-1_GSM4160644, AAATGCCCAATGTAAG-1_GSM4160644, AAATGCCCAGGTCGTC-1_GSM4160644, AAATGCCCATGCCTTC-1_GSM4160644, AAATGCCCATGTAAGA-1_GSM4160644, AAATGCCGTAAGTGGC-1_GSM4160644, AAATGCCGTCGCGTGT-1_GSM4160644, AAATGCCGTGCACGAA-1_GSM4160644, AAATGCCTCAACGGGA-1_GSM4160644, AAATGCCTCGCGTAGC-1_GSM4160644, AAATGCCTCGGAGCAA-1_GSM4160644, AACACGTAGAAGGTGA-1_GSM4160644, AACACGTAGTCGATAA-1_GSM4160644, ...]\n",
       "\n",
       "[6912 rows x 0 columns]"
      ]
     },
     "execution_count": 58,
     "metadata": {},
     "output_type": "execute_result"
    }
   ],
   "source": [
    "obs"
   ]
  },
  {
   "cell_type": "code",
   "execution_count": 59,
   "id": "2e4ad323-041a-42a8-8a34-7cb8532178bd",
   "metadata": {
    "collapsed": true,
    "jupyter": {
     "outputs_hidden": true
    },
    "tags": []
   },
   "outputs": [
    {
     "name": "stderr",
     "output_type": "stream",
     "text": [
      "<ipython-input-59-bb1635d27386>:6: FutureWarning: Series.__getitem__ treating keys as positions is deprecated. In a future version, integer keys will always be treated as labels (consistent with DataFrame behavior). To access a value by position, use `ser.iloc[pos]`\n",
      "  expName=row[0]\n"
     ]
    },
    {
     "name": "stdout",
     "output_type": "stream",
     "text": [
      "GSM4160643_WT_Cor\n",
      "GSM4160643 wt 15 months\n",
      "totalCellN:  10549\n",
      "filtered out 1 cells that have less than 200 genes expressed\n",
      "filtered out 10811 genes that are detected in less than 3 cells\n"
     ]
    },
    {
     "name": "stderr",
     "output_type": "stream",
     "text": [
      "/data/tcl/miniconda3/envs/scvi/lib/python3.9/site-packages/anndata/_core/anndata.py:1820: UserWarning: Variable names are not unique. To make them unique, call `.var_names_make_unique`.\n",
      "  utils.warn_names_duplicates(\"var\")\n",
      "/data/tcl/miniconda3/envs/scvi/lib/python3.9/site-packages/anndata/_core/anndata.py:1209: ImplicitModificationWarning: Trying to modify attribute `.var` of view, initializing view as actual.\n",
      "  df[key] = c\n"
     ]
    },
    {
     "name": "stdout",
     "output_type": "stream",
     "text": [
      "basic QC:  10548\n",
      "remove doublets:  9521\n"
     ]
    },
    {
     "name": "stderr",
     "output_type": "stream",
     "text": [
      "<ipython-input-59-bb1635d27386>:6: FutureWarning: Series.__getitem__ treating keys as positions is deprecated. In a future version, integer keys will always be treated as labels (consistent with DataFrame behavior). To access a value by position, use `ser.iloc[pos]`\n",
      "  expName=row[0]\n"
     ]
    },
    {
     "name": "stdout",
     "output_type": "stream",
     "text": [
      "GSM4160644_Trem2_KO_Cor\n",
      "GSM4160644 Trem2-/- 15 months\n",
      "totalCellN:  6912\n",
      "filtered out 2 cells that have less than 200 genes expressed\n",
      "filtered out 11535 genes that are detected in less than 3 cells\n"
     ]
    },
    {
     "name": "stderr",
     "output_type": "stream",
     "text": [
      "/data/tcl/miniconda3/envs/scvi/lib/python3.9/site-packages/anndata/_core/anndata.py:1820: UserWarning: Variable names are not unique. To make them unique, call `.var_names_make_unique`.\n",
      "  utils.warn_names_duplicates(\"var\")\n",
      "/data/tcl/miniconda3/envs/scvi/lib/python3.9/site-packages/anndata/_core/anndata.py:1209: ImplicitModificationWarning: Trying to modify attribute `.var` of view, initializing view as actual.\n",
      "  df[key] = c\n"
     ]
    },
    {
     "name": "stdout",
     "output_type": "stream",
     "text": [
      "basic QC:  6910\n",
      "remove doublets:  6391\n"
     ]
    },
    {
     "name": "stderr",
     "output_type": "stream",
     "text": [
      "<ipython-input-59-bb1635d27386>:6: FutureWarning: Series.__getitem__ treating keys as positions is deprecated. In a future version, integer keys will always be treated as labels (consistent with DataFrame behavior). To access a value by position, use `ser.iloc[pos]`\n",
      "  expName=row[0]\n"
     ]
    },
    {
     "name": "stdout",
     "output_type": "stream",
     "text": [
      "GSM4160645_WT_5XFAD_Cor\n",
      "GSM4160645 5XFAD 15 months\n",
      "totalCellN:  4816\n",
      "filtered out 5 cells that have less than 200 genes expressed\n",
      "filtered out 12061 genes that are detected in less than 3 cells\n"
     ]
    },
    {
     "name": "stderr",
     "output_type": "stream",
     "text": [
      "/data/tcl/miniconda3/envs/scvi/lib/python3.9/site-packages/anndata/_core/anndata.py:1820: UserWarning: Variable names are not unique. To make them unique, call `.var_names_make_unique`.\n",
      "  utils.warn_names_duplicates(\"var\")\n",
      "/data/tcl/miniconda3/envs/scvi/lib/python3.9/site-packages/anndata/_core/anndata.py:1209: ImplicitModificationWarning: Trying to modify attribute `.var` of view, initializing view as actual.\n",
      "  df[key] = c\n"
     ]
    },
    {
     "name": "stdout",
     "output_type": "stream",
     "text": [
      "basic QC:  4811\n",
      "remove doublets:  4553\n"
     ]
    },
    {
     "name": "stderr",
     "output_type": "stream",
     "text": [
      "<ipython-input-59-bb1635d27386>:6: FutureWarning: Series.__getitem__ treating keys as positions is deprecated. In a future version, integer keys will always be treated as labels (consistent with DataFrame behavior). To access a value by position, use `ser.iloc[pos]`\n",
      "  expName=row[0]\n"
     ]
    },
    {
     "name": "stdout",
     "output_type": "stream",
     "text": [
      "GSM4160646_Trem2_KO_5XFAD_Cor\n",
      "GSM4160646 Trem2-/- 5XFAD 15 months\n",
      "totalCellN:  6670\n",
      "filtered out 773 cells that have less than 200 genes expressed\n",
      "filtered out 12735 genes that are detected in less than 3 cells\n"
     ]
    },
    {
     "name": "stderr",
     "output_type": "stream",
     "text": [
      "/data/tcl/miniconda3/envs/scvi/lib/python3.9/site-packages/anndata/_core/anndata.py:1820: UserWarning: Variable names are not unique. To make them unique, call `.var_names_make_unique`.\n",
      "  utils.warn_names_duplicates(\"var\")\n",
      "/data/tcl/miniconda3/envs/scvi/lib/python3.9/site-packages/anndata/_core/anndata.py:1209: ImplicitModificationWarning: Trying to modify attribute `.var` of view, initializing view as actual.\n",
      "  df[key] = c\n"
     ]
    },
    {
     "name": "stdout",
     "output_type": "stream",
     "text": [
      "basic QC:  5897\n",
      "remove doublets:  5438\n"
     ]
    },
    {
     "name": "stderr",
     "output_type": "stream",
     "text": [
      "<ipython-input-59-bb1635d27386>:6: FutureWarning: Series.__getitem__ treating keys as positions is deprecated. In a future version, integer keys will always be treated as labels (consistent with DataFrame behavior). To access a value by position, use `ser.iloc[pos]`\n",
      "  expName=row[0]\n"
     ]
    },
    {
     "name": "stdout",
     "output_type": "stream",
     "text": [
      "GSM4160647_WT_Hip\n",
      "GSM4160647 wt 15 months\n",
      "totalCellN:  3389\n",
      "filtered out 60 cells that have less than 200 genes expressed\n",
      "filtered out 13162 genes that are detected in less than 3 cells\n"
     ]
    },
    {
     "name": "stderr",
     "output_type": "stream",
     "text": [
      "/data/tcl/miniconda3/envs/scvi/lib/python3.9/site-packages/anndata/_core/anndata.py:1820: UserWarning: Variable names are not unique. To make them unique, call `.var_names_make_unique`.\n",
      "  utils.warn_names_duplicates(\"var\")\n",
      "/data/tcl/miniconda3/envs/scvi/lib/python3.9/site-packages/anndata/_core/anndata.py:1209: ImplicitModificationWarning: Trying to modify attribute `.var` of view, initializing view as actual.\n",
      "  df[key] = c\n"
     ]
    },
    {
     "name": "stdout",
     "output_type": "stream",
     "text": [
      "basic QC:  3329\n",
      "remove doublets:  3204\n"
     ]
    },
    {
     "name": "stderr",
     "output_type": "stream",
     "text": [
      "<ipython-input-59-bb1635d27386>:6: FutureWarning: Series.__getitem__ treating keys as positions is deprecated. In a future version, integer keys will always be treated as labels (consistent with DataFrame behavior). To access a value by position, use `ser.iloc[pos]`\n",
      "  expName=row[0]\n"
     ]
    },
    {
     "name": "stdout",
     "output_type": "stream",
     "text": [
      "GSM4160648_Trem2_KO_Hip\n",
      "GSM4160648 Trem2-/- 15 months\n",
      "totalCellN:  2959\n",
      "filtered out 49 cells that have less than 200 genes expressed\n",
      "filtered out 13040 genes that are detected in less than 3 cells\n"
     ]
    },
    {
     "name": "stderr",
     "output_type": "stream",
     "text": [
      "/data/tcl/miniconda3/envs/scvi/lib/python3.9/site-packages/anndata/_core/anndata.py:1820: UserWarning: Variable names are not unique. To make them unique, call `.var_names_make_unique`.\n",
      "  utils.warn_names_duplicates(\"var\")\n",
      "/data/tcl/miniconda3/envs/scvi/lib/python3.9/site-packages/anndata/_core/anndata.py:1209: ImplicitModificationWarning: Trying to modify attribute `.var` of view, initializing view as actual.\n",
      "  df[key] = c\n"
     ]
    },
    {
     "name": "stdout",
     "output_type": "stream",
     "text": [
      "basic QC:  2910\n",
      "remove doublets:  2815\n"
     ]
    },
    {
     "name": "stderr",
     "output_type": "stream",
     "text": [
      "<ipython-input-59-bb1635d27386>:6: FutureWarning: Series.__getitem__ treating keys as positions is deprecated. In a future version, integer keys will always be treated as labels (consistent with DataFrame behavior). To access a value by position, use `ser.iloc[pos]`\n",
      "  expName=row[0]\n"
     ]
    },
    {
     "name": "stdout",
     "output_type": "stream",
     "text": [
      "GSM4160649_WT_5XFAD_Hip\n",
      "GSM4160649 5XFAD 15 months\n",
      "totalCellN:  4010\n",
      "filtered out 3 cells that have less than 200 genes expressed\n",
      "filtered out 12230 genes that are detected in less than 3 cells\n"
     ]
    },
    {
     "name": "stderr",
     "output_type": "stream",
     "text": [
      "/data/tcl/miniconda3/envs/scvi/lib/python3.9/site-packages/anndata/_core/anndata.py:1820: UserWarning: Variable names are not unique. To make them unique, call `.var_names_make_unique`.\n",
      "  utils.warn_names_duplicates(\"var\")\n",
      "/data/tcl/miniconda3/envs/scvi/lib/python3.9/site-packages/anndata/_core/anndata.py:1209: ImplicitModificationWarning: Trying to modify attribute `.var` of view, initializing view as actual.\n",
      "  df[key] = c\n"
     ]
    },
    {
     "name": "stdout",
     "output_type": "stream",
     "text": [
      "basic QC:  4007\n",
      "remove doublets:  3812\n"
     ]
    },
    {
     "name": "stderr",
     "output_type": "stream",
     "text": [
      "<ipython-input-59-bb1635d27386>:6: FutureWarning: Series.__getitem__ treating keys as positions is deprecated. In a future version, integer keys will always be treated as labels (consistent with DataFrame behavior). To access a value by position, use `ser.iloc[pos]`\n",
      "  expName=row[0]\n"
     ]
    },
    {
     "name": "stdout",
     "output_type": "stream",
     "text": [
      "GSM4160650_Trem2_KO_5XFAD_Hip\n",
      "GSM4160650 Trem2-/- 5XFAD 15 months\n",
      "totalCellN:  3215\n",
      "filtered out 4 cells that have less than 200 genes expressed\n",
      "filtered out 12700 genes that are detected in less than 3 cells\n"
     ]
    },
    {
     "name": "stderr",
     "output_type": "stream",
     "text": [
      "/data/tcl/miniconda3/envs/scvi/lib/python3.9/site-packages/anndata/_core/anndata.py:1820: UserWarning: Variable names are not unique. To make them unique, call `.var_names_make_unique`.\n",
      "  utils.warn_names_duplicates(\"var\")\n",
      "/data/tcl/miniconda3/envs/scvi/lib/python3.9/site-packages/anndata/_core/anndata.py:1209: ImplicitModificationWarning: Trying to modify attribute `.var` of view, initializing view as actual.\n",
      "  df[key] = c\n"
     ]
    },
    {
     "name": "stdout",
     "output_type": "stream",
     "text": [
      "basic QC:  3211\n",
      "remove doublets:  3060\n",
      "GSM4173504_WT_1\n"
     ]
    },
    {
     "name": "stderr",
     "output_type": "stream",
     "text": [
      "<ipython-input-59-bb1635d27386>:6: FutureWarning: Series.__getitem__ treating keys as positions is deprecated. In a future version, integer keys will always be treated as labels (consistent with DataFrame behavior). To access a value by position, use `ser.iloc[pos]`\n",
      "  expName=row[0]\n"
     ]
    },
    {
     "name": "stdout",
     "output_type": "stream",
     "text": [
      "GSM4173504 wt 7 months\n"
     ]
    },
    {
     "name": "stderr",
     "output_type": "stream",
     "text": [
      "/data/tcl/miniconda3/envs/scvi/lib/python3.9/site-packages/anndata/_core/anndata.py:1820: UserWarning: Variable names are not unique. To make them unique, call `.var_names_make_unique`.\n",
      "  utils.warn_names_duplicates(\"var\")\n"
     ]
    },
    {
     "name": "stdout",
     "output_type": "stream",
     "text": [
      "totalCellN:  10122\n",
      "filtered out 11179 genes that are detected in less than 3 cells\n",
      "basic QC:  10122\n",
      "remove doublets:  9163\n"
     ]
    },
    {
     "name": "stderr",
     "output_type": "stream",
     "text": [
      "/data/tcl/miniconda3/envs/scvi/lib/python3.9/site-packages/anndata/_core/anndata.py:1209: ImplicitModificationWarning: Trying to modify attribute `.var` of view, initializing view as actual.\n",
      "  df[key] = c\n",
      "<ipython-input-59-bb1635d27386>:6: FutureWarning: Series.__getitem__ treating keys as positions is deprecated. In a future version, integer keys will always be treated as labels (consistent with DataFrame behavior). To access a value by position, use `ser.iloc[pos]`\n",
      "  expName=row[0]\n"
     ]
    },
    {
     "name": "stdout",
     "output_type": "stream",
     "text": [
      "GSM4173505_WT_2\n",
      "GSM4173505 wt 7 months\n"
     ]
    },
    {
     "name": "stderr",
     "output_type": "stream",
     "text": [
      "/data/tcl/miniconda3/envs/scvi/lib/python3.9/site-packages/anndata/_core/anndata.py:1820: UserWarning: Variable names are not unique. To make them unique, call `.var_names_make_unique`.\n",
      "  utils.warn_names_duplicates(\"var\")\n"
     ]
    },
    {
     "name": "stdout",
     "output_type": "stream",
     "text": [
      "totalCellN:  6920\n",
      "filtered out 11670 genes that are detected in less than 3 cells\n",
      "basic QC:  6920\n",
      "remove doublets:  6321\n"
     ]
    },
    {
     "name": "stderr",
     "output_type": "stream",
     "text": [
      "/data/tcl/miniconda3/envs/scvi/lib/python3.9/site-packages/anndata/_core/anndata.py:1209: ImplicitModificationWarning: Trying to modify attribute `.var` of view, initializing view as actual.\n",
      "  df[key] = c\n",
      "<ipython-input-59-bb1635d27386>:6: FutureWarning: Series.__getitem__ treating keys as positions is deprecated. In a future version, integer keys will always be treated as labels (consistent with DataFrame behavior). To access a value by position, use `ser.iloc[pos]`\n",
      "  expName=row[0]\n"
     ]
    },
    {
     "name": "stdout",
     "output_type": "stream",
     "text": [
      "GSM4173506_WT_3\n",
      "GSM4173506 wt 7 months\n"
     ]
    },
    {
     "name": "stderr",
     "output_type": "stream",
     "text": [
      "/data/tcl/miniconda3/envs/scvi/lib/python3.9/site-packages/anndata/_core/anndata.py:1820: UserWarning: Variable names are not unique. To make them unique, call `.var_names_make_unique`.\n",
      "  utils.warn_names_duplicates(\"var\")\n"
     ]
    },
    {
     "name": "stdout",
     "output_type": "stream",
     "text": [
      "totalCellN:  8175\n",
      "filtered out 11308 genes that are detected in less than 3 cells\n",
      "basic QC:  8175\n",
      "remove doublets:  7424\n"
     ]
    },
    {
     "name": "stderr",
     "output_type": "stream",
     "text": [
      "/data/tcl/miniconda3/envs/scvi/lib/python3.9/site-packages/anndata/_core/anndata.py:1209: ImplicitModificationWarning: Trying to modify attribute `.var` of view, initializing view as actual.\n",
      "  df[key] = c\n",
      "<ipython-input-59-bb1635d27386>:6: FutureWarning: Series.__getitem__ treating keys as positions is deprecated. In a future version, integer keys will always be treated as labels (consistent with DataFrame behavior). To access a value by position, use `ser.iloc[pos]`\n",
      "  expName=row[0]\n"
     ]
    },
    {
     "name": "stdout",
     "output_type": "stream",
     "text": [
      "GSM4173507_Trem2_KO_1\n",
      "GSM4173507 Trem2-/- 7 months\n"
     ]
    },
    {
     "name": "stderr",
     "output_type": "stream",
     "text": [
      "/data/tcl/miniconda3/envs/scvi/lib/python3.9/site-packages/anndata/_core/anndata.py:1820: UserWarning: Variable names are not unique. To make them unique, call `.var_names_make_unique`.\n",
      "  utils.warn_names_duplicates(\"var\")\n"
     ]
    },
    {
     "name": "stdout",
     "output_type": "stream",
     "text": [
      "totalCellN:  7081\n",
      "filtered out 11690 genes that are detected in less than 3 cells\n",
      "basic QC:  7081\n",
      "remove doublets:  6486\n"
     ]
    },
    {
     "name": "stderr",
     "output_type": "stream",
     "text": [
      "/data/tcl/miniconda3/envs/scvi/lib/python3.9/site-packages/anndata/_core/anndata.py:1209: ImplicitModificationWarning: Trying to modify attribute `.var` of view, initializing view as actual.\n",
      "  df[key] = c\n",
      "<ipython-input-59-bb1635d27386>:6: FutureWarning: Series.__getitem__ treating keys as positions is deprecated. In a future version, integer keys will always be treated as labels (consistent with DataFrame behavior). To access a value by position, use `ser.iloc[pos]`\n",
      "  expName=row[0]\n"
     ]
    },
    {
     "name": "stdout",
     "output_type": "stream",
     "text": [
      "GSM4173508_Trem2_KO_2\n",
      "GSM4173508 Trem2-/- 7 months\n"
     ]
    },
    {
     "name": "stderr",
     "output_type": "stream",
     "text": [
      "/data/tcl/miniconda3/envs/scvi/lib/python3.9/site-packages/anndata/_core/anndata.py:1820: UserWarning: Variable names are not unique. To make them unique, call `.var_names_make_unique`.\n",
      "  utils.warn_names_duplicates(\"var\")\n"
     ]
    },
    {
     "name": "stdout",
     "output_type": "stream",
     "text": [
      "totalCellN:  8243\n",
      "filtered out 11455 genes that are detected in less than 3 cells\n",
      "basic QC:  8243\n",
      "remove doublets:  7505\n"
     ]
    },
    {
     "name": "stderr",
     "output_type": "stream",
     "text": [
      "/data/tcl/miniconda3/envs/scvi/lib/python3.9/site-packages/anndata/_core/anndata.py:1209: ImplicitModificationWarning: Trying to modify attribute `.var` of view, initializing view as actual.\n",
      "  df[key] = c\n",
      "<ipython-input-59-bb1635d27386>:6: FutureWarning: Series.__getitem__ treating keys as positions is deprecated. In a future version, integer keys will always be treated as labels (consistent with DataFrame behavior). To access a value by position, use `ser.iloc[pos]`\n",
      "  expName=row[0]\n"
     ]
    },
    {
     "name": "stdout",
     "output_type": "stream",
     "text": [
      "GSM4173509_Trem2_KO_3\n",
      "GSM4173509 Trem2-/- 7 months\n"
     ]
    },
    {
     "name": "stderr",
     "output_type": "stream",
     "text": [
      "/data/tcl/miniconda3/envs/scvi/lib/python3.9/site-packages/anndata/_core/anndata.py:1820: UserWarning: Variable names are not unique. To make them unique, call `.var_names_make_unique`.\n",
      "  utils.warn_names_duplicates(\"var\")\n"
     ]
    },
    {
     "name": "stdout",
     "output_type": "stream",
     "text": [
      "totalCellN:  8267\n",
      "filtered out 11549 genes that are detected in less than 3 cells\n",
      "basic QC:  8267\n",
      "remove doublets:  7511\n"
     ]
    },
    {
     "name": "stderr",
     "output_type": "stream",
     "text": [
      "/data/tcl/miniconda3/envs/scvi/lib/python3.9/site-packages/anndata/_core/anndata.py:1209: ImplicitModificationWarning: Trying to modify attribute `.var` of view, initializing view as actual.\n",
      "  df[key] = c\n",
      "<ipython-input-59-bb1635d27386>:6: FutureWarning: Series.__getitem__ treating keys as positions is deprecated. In a future version, integer keys will always be treated as labels (consistent with DataFrame behavior). To access a value by position, use `ser.iloc[pos]`\n",
      "  expName=row[0]\n"
     ]
    },
    {
     "name": "stdout",
     "output_type": "stream",
     "text": [
      "GSM4173510_WT_5XFAD_1\n",
      "GSM4173510 5XFAD 7 months\n"
     ]
    },
    {
     "name": "stderr",
     "output_type": "stream",
     "text": [
      "/data/tcl/miniconda3/envs/scvi/lib/python3.9/site-packages/anndata/_core/anndata.py:1820: UserWarning: Variable names are not unique. To make them unique, call `.var_names_make_unique`.\n",
      "  utils.warn_names_duplicates(\"var\")\n"
     ]
    },
    {
     "name": "stdout",
     "output_type": "stream",
     "text": [
      "totalCellN:  7040\n",
      "filtered out 11803 genes that are detected in less than 3 cells\n",
      "basic QC:  7040\n",
      "remove doublets:  6472\n"
     ]
    },
    {
     "name": "stderr",
     "output_type": "stream",
     "text": [
      "/data/tcl/miniconda3/envs/scvi/lib/python3.9/site-packages/anndata/_core/anndata.py:1209: ImplicitModificationWarning: Trying to modify attribute `.var` of view, initializing view as actual.\n",
      "  df[key] = c\n",
      "<ipython-input-59-bb1635d27386>:6: FutureWarning: Series.__getitem__ treating keys as positions is deprecated. In a future version, integer keys will always be treated as labels (consistent with DataFrame behavior). To access a value by position, use `ser.iloc[pos]`\n",
      "  expName=row[0]\n"
     ]
    },
    {
     "name": "stdout",
     "output_type": "stream",
     "text": [
      "GSM4173511_WT_5XFAD_2\n",
      "GSM4173511 5XFAD 7 months\n",
      "totalCellN:  5018\n",
      "filtered out 12298 genes that are detected in less than 3 cells\n"
     ]
    },
    {
     "name": "stderr",
     "output_type": "stream",
     "text": [
      "/data/tcl/miniconda3/envs/scvi/lib/python3.9/site-packages/anndata/_core/anndata.py:1820: UserWarning: Variable names are not unique. To make them unique, call `.var_names_make_unique`.\n",
      "  utils.warn_names_duplicates(\"var\")\n"
     ]
    },
    {
     "name": "stdout",
     "output_type": "stream",
     "text": [
      "basic QC:  5018\n",
      "remove doublets:  4723\n"
     ]
    },
    {
     "name": "stderr",
     "output_type": "stream",
     "text": [
      "/data/tcl/miniconda3/envs/scvi/lib/python3.9/site-packages/anndata/_core/anndata.py:1209: ImplicitModificationWarning: Trying to modify attribute `.var` of view, initializing view as actual.\n",
      "  df[key] = c\n",
      "<ipython-input-59-bb1635d27386>:6: FutureWarning: Series.__getitem__ treating keys as positions is deprecated. In a future version, integer keys will always be treated as labels (consistent with DataFrame behavior). To access a value by position, use `ser.iloc[pos]`\n",
      "  expName=row[0]\n"
     ]
    },
    {
     "name": "stdout",
     "output_type": "stream",
     "text": [
      "GSM4173512_WT_5XFAD_3\n",
      "GSM4173512 5XFAD 7 months\n"
     ]
    },
    {
     "name": "stderr",
     "output_type": "stream",
     "text": [
      "/data/tcl/miniconda3/envs/scvi/lib/python3.9/site-packages/anndata/_core/anndata.py:1820: UserWarning: Variable names are not unique. To make them unique, call `.var_names_make_unique`.\n",
      "  utils.warn_names_duplicates(\"var\")\n"
     ]
    },
    {
     "name": "stdout",
     "output_type": "stream",
     "text": [
      "totalCellN:  8039\n",
      "filtered out 11524 genes that are detected in less than 3 cells\n",
      "basic QC:  8039\n",
      "remove doublets:  7304\n"
     ]
    },
    {
     "name": "stderr",
     "output_type": "stream",
     "text": [
      "/data/tcl/miniconda3/envs/scvi/lib/python3.9/site-packages/anndata/_core/anndata.py:1209: ImplicitModificationWarning: Trying to modify attribute `.var` of view, initializing view as actual.\n",
      "  df[key] = c\n",
      "<ipython-input-59-bb1635d27386>:6: FutureWarning: Series.__getitem__ treating keys as positions is deprecated. In a future version, integer keys will always be treated as labels (consistent with DataFrame behavior). To access a value by position, use `ser.iloc[pos]`\n",
      "  expName=row[0]\n"
     ]
    },
    {
     "name": "stdout",
     "output_type": "stream",
     "text": [
      "GSM4173513_Trem2_KO_5XFAD_1\n",
      "GSM4173513 Trem2-/- 5XFAD 7 months\n"
     ]
    },
    {
     "name": "stderr",
     "output_type": "stream",
     "text": [
      "/data/tcl/miniconda3/envs/scvi/lib/python3.9/site-packages/anndata/_core/anndata.py:1820: UserWarning: Variable names are not unique. To make them unique, call `.var_names_make_unique`.\n",
      "  utils.warn_names_duplicates(\"var\")\n"
     ]
    },
    {
     "name": "stdout",
     "output_type": "stream",
     "text": [
      "totalCellN:  7002\n",
      "filtered out 11583 genes that are detected in less than 3 cells\n",
      "basic QC:  7002\n",
      "remove doublets:  6370\n"
     ]
    },
    {
     "name": "stderr",
     "output_type": "stream",
     "text": [
      "/data/tcl/miniconda3/envs/scvi/lib/python3.9/site-packages/anndata/_core/anndata.py:1209: ImplicitModificationWarning: Trying to modify attribute `.var` of view, initializing view as actual.\n",
      "  df[key] = c\n",
      "<ipython-input-59-bb1635d27386>:6: FutureWarning: Series.__getitem__ treating keys as positions is deprecated. In a future version, integer keys will always be treated as labels (consistent with DataFrame behavior). To access a value by position, use `ser.iloc[pos]`\n",
      "  expName=row[0]\n"
     ]
    },
    {
     "name": "stdout",
     "output_type": "stream",
     "text": [
      "GSM4173514_Trem2_KO_5XFAD_2\n",
      "GSM4173514 Trem2-/- 5XFAD 7 months\n"
     ]
    },
    {
     "name": "stderr",
     "output_type": "stream",
     "text": [
      "/data/tcl/miniconda3/envs/scvi/lib/python3.9/site-packages/anndata/_core/anndata.py:1820: UserWarning: Variable names are not unique. To make them unique, call `.var_names_make_unique`.\n",
      "  utils.warn_names_duplicates(\"var\")\n"
     ]
    },
    {
     "name": "stdout",
     "output_type": "stream",
     "text": [
      "totalCellN:  8163\n",
      "filtered out 11302 genes that are detected in less than 3 cells\n",
      "basic QC:  8163\n",
      "remove doublets:  7493\n"
     ]
    },
    {
     "name": "stderr",
     "output_type": "stream",
     "text": [
      "/data/tcl/miniconda3/envs/scvi/lib/python3.9/site-packages/anndata/_core/anndata.py:1209: ImplicitModificationWarning: Trying to modify attribute `.var` of view, initializing view as actual.\n",
      "  df[key] = c\n",
      "<ipython-input-59-bb1635d27386>:6: FutureWarning: Series.__getitem__ treating keys as positions is deprecated. In a future version, integer keys will always be treated as labels (consistent with DataFrame behavior). To access a value by position, use `ser.iloc[pos]`\n",
      "  expName=row[0]\n"
     ]
    },
    {
     "name": "stdout",
     "output_type": "stream",
     "text": [
      "GSM4173515_Trem2_KO_5XFAD_3\n",
      "GSM4173515 Trem2-/- 5XFAD 7 months\n",
      "totalCellN:  6577\n",
      "filtered out 11876 genes that are detected in less than 3 cells\n"
     ]
    },
    {
     "name": "stderr",
     "output_type": "stream",
     "text": [
      "/data/tcl/miniconda3/envs/scvi/lib/python3.9/site-packages/anndata/_core/anndata.py:1820: UserWarning: Variable names are not unique. To make them unique, call `.var_names_make_unique`.\n",
      "  utils.warn_names_duplicates(\"var\")\n"
     ]
    },
    {
     "name": "stdout",
     "output_type": "stream",
     "text": [
      "basic QC:  6577\n",
      "remove doublets:  6103\n"
     ]
    },
    {
     "name": "stderr",
     "output_type": "stream",
     "text": [
      "/data/tcl/miniconda3/envs/scvi/lib/python3.9/site-packages/anndata/_core/anndata.py:1209: ImplicitModificationWarning: Trying to modify attribute `.var` of view, initializing view as actual.\n",
      "  df[key] = c\n"
     ]
    }
   ],
   "source": [
    "### remove ambient RNAs, basic CellQC (min_genes= 200, min_Cell=3), remove doublets using decontx dataset\n",
    "totalCellN_L = []\n",
    "remainCellN_L = []\n",
    "\n",
    "for index, row in cellN_Df.iterrows():\n",
    "    expName=row[0]\n",
    "    # matrixName = f'{expName}_filtered_feature_bc_matrix'\n",
    "    print(expName,)\n",
    "    \n",
    "    # ### Use decontX data\n",
    "    # decontxMtx=f'{allDecontxFolder}/{expName}'\n",
    "    # # print(decontxMtx)\n",
    "    # adataDecontx = sc.read_10x_mtx(decontxMtx, var_names='gene_symbols', cache=True)\n",
    "    # adataDecontx.var_names_make_unique()\n",
    "    \n",
    "    ### Use mtx from the study\n",
    "    obs = pd.read_csv(f'{rawDataFolder}/dataset/{expName}_barcodes.tsv.gz', index_col=0, header=None)\n",
    "    obs.index.name = None\n",
    "    var =  pd.read_csv(f'{rawDataFolder}/dataset/{expName}_genes.tsv.gz', sep='\\t', header=None).iloc[:,:2]\n",
    "    var.index = var.iloc[:, 1].to_list()\n",
    "    var.columns = ['geneID', 'geneName']\n",
    "    \n",
    "    geoID = expName.split('_')[0]    \n",
    "    \n",
    "    age, genotype = sample_D[geoID].split('__')[1:]\n",
    "    # if genotype == 'A': genotype = '5XFAD'\n",
    "    # else: genotype = 'WT'\n",
    "    print(geoID, genotype, age)\n",
    "    \n",
    "    mtxFile = f'{rawDataFolder}/dataset/{expName}_matrix.mtx.gz'\n",
    "    adata = sc.read_mtx(mtxFile)\n",
    "    adata = ad.AnnData(X= adata.X.T, obs=obs, var=var)\n",
    "    # adata = sc.read_10x_h5(mtxFile)\n",
    "    adata.var_names_make_unique()\n",
    "    totalCellN_L.append(len(adata))\n",
    "    print('totalCellN: ', len(adata))\n",
    "        \n",
    "    # output cellN\n",
    "    # basic QC\n",
    "    sc.pp.filter_cells(adata, min_genes=200)\n",
    "    sc.pp.filter_genes(adata, min_cells=3)\n",
    "    print('basic QC: ', len(adata))\n",
    "    \n",
    "    ### remove doublets\n",
    "    metadataOutPath=f'{metadataFolder}/{expName}.csv'\n",
    "    metadataDf = pd.read_csv(metadataOutPath, index_col=0)\n",
    "    \n",
    "    keep_L = metadataDf[ metadataDf['scDblFinder.class'] == 'singlet' ].index.to_list()\n",
    "    adata = adata[adata.obs_names.isin(keep_L)]\n",
    "    adata.obs.index = list(adata.obs.index.astype(str) + '_' + geoID)\n",
    "    \n",
    "    # Modify nan gene name\n",
    "    if True in list(adata.var.index.isna()):\n",
    "        print('nan found in index!!!')\n",
    "        nanNum = list(adata.var.index.isna()).index(True)\n",
    "        adata.var.gene_ids = ['nan' if n == nanNum else var for n, var in enumerate(adata.var.gene_ids)]\n",
    "        adata.var_names = ['nan' if n == nanNum else var for n, var in enumerate(adata.var_names)]\n",
    "        print(len(adata))\n",
    "\n",
    "    remainCellN_L.append(len(adata))\n",
    "    print('remove doublets: ', len(adata))\n",
    "    adata.write(f'{scDblFinderFolder}/adata_scDblFinder_{expName}.h5ad')\n",
    "    \n",
    "cellN_Df['TotalCellNum'] = totalCellN_L\n",
    "cellN_Df['scDblFinderCellN'] = remainCellN_L"
   ]
  },
  {
   "cell_type": "code",
   "execution_count": 61,
   "id": "c727bb40-5e1e-4080-9208-e6eacf7aa1d1",
   "metadata": {},
   "outputs": [
    {
     "data": {
      "text/html": [
       "<div>\n",
       "<style scoped>\n",
       "    .dataframe tbody tr th:only-of-type {\n",
       "        vertical-align: middle;\n",
       "    }\n",
       "\n",
       "    .dataframe tbody tr th {\n",
       "        vertical-align: top;\n",
       "    }\n",
       "\n",
       "    .dataframe thead th {\n",
       "        text-align: right;\n",
       "    }\n",
       "</style>\n",
       "<table border=\"1\" class=\"dataframe\">\n",
       "  <thead>\n",
       "    <tr style=\"text-align: right;\">\n",
       "      <th></th>\n",
       "      <th>scExpName</th>\n",
       "      <th>TotalCellNum</th>\n",
       "      <th>scDblFinderCellN</th>\n",
       "    </tr>\n",
       "  </thead>\n",
       "  <tbody>\n",
       "    <tr>\n",
       "      <th>0</th>\n",
       "      <td>GSM4160643_WT_Cor</td>\n",
       "      <td>10549</td>\n",
       "      <td>9521</td>\n",
       "    </tr>\n",
       "    <tr>\n",
       "      <th>1</th>\n",
       "      <td>GSM4160644_Trem2_KO_Cor</td>\n",
       "      <td>6912</td>\n",
       "      <td>6391</td>\n",
       "    </tr>\n",
       "    <tr>\n",
       "      <th>2</th>\n",
       "      <td>GSM4160645_WT_5XFAD_Cor</td>\n",
       "      <td>4816</td>\n",
       "      <td>4553</td>\n",
       "    </tr>\n",
       "    <tr>\n",
       "      <th>3</th>\n",
       "      <td>GSM4160646_Trem2_KO_5XFAD_Cor</td>\n",
       "      <td>6670</td>\n",
       "      <td>5438</td>\n",
       "    </tr>\n",
       "    <tr>\n",
       "      <th>4</th>\n",
       "      <td>GSM4160647_WT_Hip</td>\n",
       "      <td>3389</td>\n",
       "      <td>3204</td>\n",
       "    </tr>\n",
       "    <tr>\n",
       "      <th>5</th>\n",
       "      <td>GSM4160648_Trem2_KO_Hip</td>\n",
       "      <td>2959</td>\n",
       "      <td>2815</td>\n",
       "    </tr>\n",
       "    <tr>\n",
       "      <th>6</th>\n",
       "      <td>GSM4160649_WT_5XFAD_Hip</td>\n",
       "      <td>4010</td>\n",
       "      <td>3812</td>\n",
       "    </tr>\n",
       "    <tr>\n",
       "      <th>7</th>\n",
       "      <td>GSM4160650_Trem2_KO_5XFAD_Hip</td>\n",
       "      <td>3215</td>\n",
       "      <td>3060</td>\n",
       "    </tr>\n",
       "    <tr>\n",
       "      <th>8</th>\n",
       "      <td>GSM4173504_WT_1</td>\n",
       "      <td>10122</td>\n",
       "      <td>9163</td>\n",
       "    </tr>\n",
       "    <tr>\n",
       "      <th>9</th>\n",
       "      <td>GSM4173505_WT_2</td>\n",
       "      <td>6920</td>\n",
       "      <td>6321</td>\n",
       "    </tr>\n",
       "    <tr>\n",
       "      <th>10</th>\n",
       "      <td>GSM4173506_WT_3</td>\n",
       "      <td>8175</td>\n",
       "      <td>7424</td>\n",
       "    </tr>\n",
       "    <tr>\n",
       "      <th>11</th>\n",
       "      <td>GSM4173507_Trem2_KO_1</td>\n",
       "      <td>7081</td>\n",
       "      <td>6486</td>\n",
       "    </tr>\n",
       "    <tr>\n",
       "      <th>12</th>\n",
       "      <td>GSM4173508_Trem2_KO_2</td>\n",
       "      <td>8243</td>\n",
       "      <td>7505</td>\n",
       "    </tr>\n",
       "    <tr>\n",
       "      <th>13</th>\n",
       "      <td>GSM4173509_Trem2_KO_3</td>\n",
       "      <td>8267</td>\n",
       "      <td>7511</td>\n",
       "    </tr>\n",
       "    <tr>\n",
       "      <th>14</th>\n",
       "      <td>GSM4173510_WT_5XFAD_1</td>\n",
       "      <td>7040</td>\n",
       "      <td>6472</td>\n",
       "    </tr>\n",
       "    <tr>\n",
       "      <th>15</th>\n",
       "      <td>GSM4173511_WT_5XFAD_2</td>\n",
       "      <td>5018</td>\n",
       "      <td>4723</td>\n",
       "    </tr>\n",
       "    <tr>\n",
       "      <th>16</th>\n",
       "      <td>GSM4173512_WT_5XFAD_3</td>\n",
       "      <td>8039</td>\n",
       "      <td>7304</td>\n",
       "    </tr>\n",
       "    <tr>\n",
       "      <th>17</th>\n",
       "      <td>GSM4173513_Trem2_KO_5XFAD_1</td>\n",
       "      <td>7002</td>\n",
       "      <td>6370</td>\n",
       "    </tr>\n",
       "    <tr>\n",
       "      <th>18</th>\n",
       "      <td>GSM4173514_Trem2_KO_5XFAD_2</td>\n",
       "      <td>8163</td>\n",
       "      <td>7493</td>\n",
       "    </tr>\n",
       "    <tr>\n",
       "      <th>19</th>\n",
       "      <td>GSM4173515_Trem2_KO_5XFAD_3</td>\n",
       "      <td>6577</td>\n",
       "      <td>6103</td>\n",
       "    </tr>\n",
       "  </tbody>\n",
       "</table>\n",
       "</div>"
      ],
      "text/plain": [
       "                        scExpName  TotalCellNum  scDblFinderCellN\n",
       "0               GSM4160643_WT_Cor         10549              9521\n",
       "1         GSM4160644_Trem2_KO_Cor          6912              6391\n",
       "2         GSM4160645_WT_5XFAD_Cor          4816              4553\n",
       "3   GSM4160646_Trem2_KO_5XFAD_Cor          6670              5438\n",
       "4               GSM4160647_WT_Hip          3389              3204\n",
       "5         GSM4160648_Trem2_KO_Hip          2959              2815\n",
       "6         GSM4160649_WT_5XFAD_Hip          4010              3812\n",
       "7   GSM4160650_Trem2_KO_5XFAD_Hip          3215              3060\n",
       "8                 GSM4173504_WT_1         10122              9163\n",
       "9                 GSM4173505_WT_2          6920              6321\n",
       "10                GSM4173506_WT_3          8175              7424\n",
       "11          GSM4173507_Trem2_KO_1          7081              6486\n",
       "12          GSM4173508_Trem2_KO_2          8243              7505\n",
       "13          GSM4173509_Trem2_KO_3          8267              7511\n",
       "14          GSM4173510_WT_5XFAD_1          7040              6472\n",
       "15          GSM4173511_WT_5XFAD_2          5018              4723\n",
       "16          GSM4173512_WT_5XFAD_3          8039              7304\n",
       "17    GSM4173513_Trem2_KO_5XFAD_1          7002              6370\n",
       "18    GSM4173514_Trem2_KO_5XFAD_2          8163              7493\n",
       "19    GSM4173515_Trem2_KO_5XFAD_3          6577              6103"
      ]
     },
     "execution_count": 61,
     "metadata": {},
     "output_type": "execute_result"
    }
   ],
   "source": [
    "cellN_Df"
   ]
  },
  {
   "cell_type": "code",
   "execution_count": 64,
   "id": "a42eec84-615c-4516-9fad-df44a056dba0",
   "metadata": {},
   "outputs": [],
   "source": [
    "scDblFinderSummary=f'{scDblFinderFolder}/cellN_Df__scDblFinderSummary.csv'\n",
    "cellN_Df.to_csv(scDblFinderSummary, index=False)"
   ]
  },
  {
   "cell_type": "code",
   "execution_count": 65,
   "id": "f2d939a8-710b-43db-84a4-28272652bba0",
   "metadata": {},
   "outputs": [
    {
     "data": {
      "text/html": [
       "<div>\n",
       "<style scoped>\n",
       "    .dataframe tbody tr th:only-of-type {\n",
       "        vertical-align: middle;\n",
       "    }\n",
       "\n",
       "    .dataframe tbody tr th {\n",
       "        vertical-align: top;\n",
       "    }\n",
       "\n",
       "    .dataframe thead th {\n",
       "        text-align: right;\n",
       "    }\n",
       "</style>\n",
       "<table border=\"1\" class=\"dataframe\">\n",
       "  <thead>\n",
       "    <tr style=\"text-align: right;\">\n",
       "      <th></th>\n",
       "      <th>scExpName</th>\n",
       "      <th>process</th>\n",
       "      <th>nuclei#</th>\n",
       "    </tr>\n",
       "  </thead>\n",
       "  <tbody>\n",
       "    <tr>\n",
       "      <th>0</th>\n",
       "      <td>GSM4160643_WT_Cor</td>\n",
       "      <td>TotalCellNum</td>\n",
       "      <td>10549</td>\n",
       "    </tr>\n",
       "    <tr>\n",
       "      <th>1</th>\n",
       "      <td>GSM4160644_Trem2_KO_Cor</td>\n",
       "      <td>TotalCellNum</td>\n",
       "      <td>6912</td>\n",
       "    </tr>\n",
       "    <tr>\n",
       "      <th>2</th>\n",
       "      <td>GSM4160645_WT_5XFAD_Cor</td>\n",
       "      <td>TotalCellNum</td>\n",
       "      <td>4816</td>\n",
       "    </tr>\n",
       "    <tr>\n",
       "      <th>3</th>\n",
       "      <td>GSM4160646_Trem2_KO_5XFAD_Cor</td>\n",
       "      <td>TotalCellNum</td>\n",
       "      <td>6670</td>\n",
       "    </tr>\n",
       "    <tr>\n",
       "      <th>4</th>\n",
       "      <td>GSM4160647_WT_Hip</td>\n",
       "      <td>TotalCellNum</td>\n",
       "      <td>3389</td>\n",
       "    </tr>\n",
       "    <tr>\n",
       "      <th>5</th>\n",
       "      <td>GSM4160648_Trem2_KO_Hip</td>\n",
       "      <td>TotalCellNum</td>\n",
       "      <td>2959</td>\n",
       "    </tr>\n",
       "    <tr>\n",
       "      <th>6</th>\n",
       "      <td>GSM4160649_WT_5XFAD_Hip</td>\n",
       "      <td>TotalCellNum</td>\n",
       "      <td>4010</td>\n",
       "    </tr>\n",
       "    <tr>\n",
       "      <th>7</th>\n",
       "      <td>GSM4160650_Trem2_KO_5XFAD_Hip</td>\n",
       "      <td>TotalCellNum</td>\n",
       "      <td>3215</td>\n",
       "    </tr>\n",
       "    <tr>\n",
       "      <th>8</th>\n",
       "      <td>GSM4173504_WT_1</td>\n",
       "      <td>TotalCellNum</td>\n",
       "      <td>10122</td>\n",
       "    </tr>\n",
       "    <tr>\n",
       "      <th>9</th>\n",
       "      <td>GSM4173505_WT_2</td>\n",
       "      <td>TotalCellNum</td>\n",
       "      <td>6920</td>\n",
       "    </tr>\n",
       "    <tr>\n",
       "      <th>10</th>\n",
       "      <td>GSM4173506_WT_3</td>\n",
       "      <td>TotalCellNum</td>\n",
       "      <td>8175</td>\n",
       "    </tr>\n",
       "    <tr>\n",
       "      <th>11</th>\n",
       "      <td>GSM4173507_Trem2_KO_1</td>\n",
       "      <td>TotalCellNum</td>\n",
       "      <td>7081</td>\n",
       "    </tr>\n",
       "    <tr>\n",
       "      <th>12</th>\n",
       "      <td>GSM4173508_Trem2_KO_2</td>\n",
       "      <td>TotalCellNum</td>\n",
       "      <td>8243</td>\n",
       "    </tr>\n",
       "    <tr>\n",
       "      <th>13</th>\n",
       "      <td>GSM4173509_Trem2_KO_3</td>\n",
       "      <td>TotalCellNum</td>\n",
       "      <td>8267</td>\n",
       "    </tr>\n",
       "    <tr>\n",
       "      <th>14</th>\n",
       "      <td>GSM4173510_WT_5XFAD_1</td>\n",
       "      <td>TotalCellNum</td>\n",
       "      <td>7040</td>\n",
       "    </tr>\n",
       "    <tr>\n",
       "      <th>15</th>\n",
       "      <td>GSM4173511_WT_5XFAD_2</td>\n",
       "      <td>TotalCellNum</td>\n",
       "      <td>5018</td>\n",
       "    </tr>\n",
       "    <tr>\n",
       "      <th>16</th>\n",
       "      <td>GSM4173512_WT_5XFAD_3</td>\n",
       "      <td>TotalCellNum</td>\n",
       "      <td>8039</td>\n",
       "    </tr>\n",
       "    <tr>\n",
       "      <th>17</th>\n",
       "      <td>GSM4173513_Trem2_KO_5XFAD_1</td>\n",
       "      <td>TotalCellNum</td>\n",
       "      <td>7002</td>\n",
       "    </tr>\n",
       "    <tr>\n",
       "      <th>18</th>\n",
       "      <td>GSM4173514_Trem2_KO_5XFAD_2</td>\n",
       "      <td>TotalCellNum</td>\n",
       "      <td>8163</td>\n",
       "    </tr>\n",
       "    <tr>\n",
       "      <th>19</th>\n",
       "      <td>GSM4173515_Trem2_KO_5XFAD_3</td>\n",
       "      <td>TotalCellNum</td>\n",
       "      <td>6577</td>\n",
       "    </tr>\n",
       "    <tr>\n",
       "      <th>20</th>\n",
       "      <td>GSM4160643_WT_Cor</td>\n",
       "      <td>scDblFinderCellN</td>\n",
       "      <td>9521</td>\n",
       "    </tr>\n",
       "    <tr>\n",
       "      <th>21</th>\n",
       "      <td>GSM4160644_Trem2_KO_Cor</td>\n",
       "      <td>scDblFinderCellN</td>\n",
       "      <td>6391</td>\n",
       "    </tr>\n",
       "    <tr>\n",
       "      <th>22</th>\n",
       "      <td>GSM4160645_WT_5XFAD_Cor</td>\n",
       "      <td>scDblFinderCellN</td>\n",
       "      <td>4553</td>\n",
       "    </tr>\n",
       "    <tr>\n",
       "      <th>23</th>\n",
       "      <td>GSM4160646_Trem2_KO_5XFAD_Cor</td>\n",
       "      <td>scDblFinderCellN</td>\n",
       "      <td>5438</td>\n",
       "    </tr>\n",
       "    <tr>\n",
       "      <th>24</th>\n",
       "      <td>GSM4160647_WT_Hip</td>\n",
       "      <td>scDblFinderCellN</td>\n",
       "      <td>3204</td>\n",
       "    </tr>\n",
       "    <tr>\n",
       "      <th>25</th>\n",
       "      <td>GSM4160648_Trem2_KO_Hip</td>\n",
       "      <td>scDblFinderCellN</td>\n",
       "      <td>2815</td>\n",
       "    </tr>\n",
       "    <tr>\n",
       "      <th>26</th>\n",
       "      <td>GSM4160649_WT_5XFAD_Hip</td>\n",
       "      <td>scDblFinderCellN</td>\n",
       "      <td>3812</td>\n",
       "    </tr>\n",
       "    <tr>\n",
       "      <th>27</th>\n",
       "      <td>GSM4160650_Trem2_KO_5XFAD_Hip</td>\n",
       "      <td>scDblFinderCellN</td>\n",
       "      <td>3060</td>\n",
       "    </tr>\n",
       "    <tr>\n",
       "      <th>28</th>\n",
       "      <td>GSM4173504_WT_1</td>\n",
       "      <td>scDblFinderCellN</td>\n",
       "      <td>9163</td>\n",
       "    </tr>\n",
       "    <tr>\n",
       "      <th>29</th>\n",
       "      <td>GSM4173505_WT_2</td>\n",
       "      <td>scDblFinderCellN</td>\n",
       "      <td>6321</td>\n",
       "    </tr>\n",
       "    <tr>\n",
       "      <th>30</th>\n",
       "      <td>GSM4173506_WT_3</td>\n",
       "      <td>scDblFinderCellN</td>\n",
       "      <td>7424</td>\n",
       "    </tr>\n",
       "    <tr>\n",
       "      <th>31</th>\n",
       "      <td>GSM4173507_Trem2_KO_1</td>\n",
       "      <td>scDblFinderCellN</td>\n",
       "      <td>6486</td>\n",
       "    </tr>\n",
       "    <tr>\n",
       "      <th>32</th>\n",
       "      <td>GSM4173508_Trem2_KO_2</td>\n",
       "      <td>scDblFinderCellN</td>\n",
       "      <td>7505</td>\n",
       "    </tr>\n",
       "    <tr>\n",
       "      <th>33</th>\n",
       "      <td>GSM4173509_Trem2_KO_3</td>\n",
       "      <td>scDblFinderCellN</td>\n",
       "      <td>7511</td>\n",
       "    </tr>\n",
       "    <tr>\n",
       "      <th>34</th>\n",
       "      <td>GSM4173510_WT_5XFAD_1</td>\n",
       "      <td>scDblFinderCellN</td>\n",
       "      <td>6472</td>\n",
       "    </tr>\n",
       "    <tr>\n",
       "      <th>35</th>\n",
       "      <td>GSM4173511_WT_5XFAD_2</td>\n",
       "      <td>scDblFinderCellN</td>\n",
       "      <td>4723</td>\n",
       "    </tr>\n",
       "    <tr>\n",
       "      <th>36</th>\n",
       "      <td>GSM4173512_WT_5XFAD_3</td>\n",
       "      <td>scDblFinderCellN</td>\n",
       "      <td>7304</td>\n",
       "    </tr>\n",
       "    <tr>\n",
       "      <th>37</th>\n",
       "      <td>GSM4173513_Trem2_KO_5XFAD_1</td>\n",
       "      <td>scDblFinderCellN</td>\n",
       "      <td>6370</td>\n",
       "    </tr>\n",
       "    <tr>\n",
       "      <th>38</th>\n",
       "      <td>GSM4173514_Trem2_KO_5XFAD_2</td>\n",
       "      <td>scDblFinderCellN</td>\n",
       "      <td>7493</td>\n",
       "    </tr>\n",
       "    <tr>\n",
       "      <th>39</th>\n",
       "      <td>GSM4173515_Trem2_KO_5XFAD_3</td>\n",
       "      <td>scDblFinderCellN</td>\n",
       "      <td>6103</td>\n",
       "    </tr>\n",
       "  </tbody>\n",
       "</table>\n",
       "</div>"
      ],
      "text/plain": [
       "                        scExpName           process  nuclei#\n",
       "0               GSM4160643_WT_Cor      TotalCellNum    10549\n",
       "1         GSM4160644_Trem2_KO_Cor      TotalCellNum     6912\n",
       "2         GSM4160645_WT_5XFAD_Cor      TotalCellNum     4816\n",
       "3   GSM4160646_Trem2_KO_5XFAD_Cor      TotalCellNum     6670\n",
       "4               GSM4160647_WT_Hip      TotalCellNum     3389\n",
       "5         GSM4160648_Trem2_KO_Hip      TotalCellNum     2959\n",
       "6         GSM4160649_WT_5XFAD_Hip      TotalCellNum     4010\n",
       "7   GSM4160650_Trem2_KO_5XFAD_Hip      TotalCellNum     3215\n",
       "8                 GSM4173504_WT_1      TotalCellNum    10122\n",
       "9                 GSM4173505_WT_2      TotalCellNum     6920\n",
       "10                GSM4173506_WT_3      TotalCellNum     8175\n",
       "11          GSM4173507_Trem2_KO_1      TotalCellNum     7081\n",
       "12          GSM4173508_Trem2_KO_2      TotalCellNum     8243\n",
       "13          GSM4173509_Trem2_KO_3      TotalCellNum     8267\n",
       "14          GSM4173510_WT_5XFAD_1      TotalCellNum     7040\n",
       "15          GSM4173511_WT_5XFAD_2      TotalCellNum     5018\n",
       "16          GSM4173512_WT_5XFAD_3      TotalCellNum     8039\n",
       "17    GSM4173513_Trem2_KO_5XFAD_1      TotalCellNum     7002\n",
       "18    GSM4173514_Trem2_KO_5XFAD_2      TotalCellNum     8163\n",
       "19    GSM4173515_Trem2_KO_5XFAD_3      TotalCellNum     6577\n",
       "20              GSM4160643_WT_Cor  scDblFinderCellN     9521\n",
       "21        GSM4160644_Trem2_KO_Cor  scDblFinderCellN     6391\n",
       "22        GSM4160645_WT_5XFAD_Cor  scDblFinderCellN     4553\n",
       "23  GSM4160646_Trem2_KO_5XFAD_Cor  scDblFinderCellN     5438\n",
       "24              GSM4160647_WT_Hip  scDblFinderCellN     3204\n",
       "25        GSM4160648_Trem2_KO_Hip  scDblFinderCellN     2815\n",
       "26        GSM4160649_WT_5XFAD_Hip  scDblFinderCellN     3812\n",
       "27  GSM4160650_Trem2_KO_5XFAD_Hip  scDblFinderCellN     3060\n",
       "28                GSM4173504_WT_1  scDblFinderCellN     9163\n",
       "29                GSM4173505_WT_2  scDblFinderCellN     6321\n",
       "30                GSM4173506_WT_3  scDblFinderCellN     7424\n",
       "31          GSM4173507_Trem2_KO_1  scDblFinderCellN     6486\n",
       "32          GSM4173508_Trem2_KO_2  scDblFinderCellN     7505\n",
       "33          GSM4173509_Trem2_KO_3  scDblFinderCellN     7511\n",
       "34          GSM4173510_WT_5XFAD_1  scDblFinderCellN     6472\n",
       "35          GSM4173511_WT_5XFAD_2  scDblFinderCellN     4723\n",
       "36          GSM4173512_WT_5XFAD_3  scDblFinderCellN     7304\n",
       "37    GSM4173513_Trem2_KO_5XFAD_1  scDblFinderCellN     6370\n",
       "38    GSM4173514_Trem2_KO_5XFAD_2  scDblFinderCellN     7493\n",
       "39    GSM4173515_Trem2_KO_5XFAD_3  scDblFinderCellN     6103"
      ]
     },
     "execution_count": 65,
     "metadata": {},
     "output_type": "execute_result"
    }
   ],
   "source": [
    "decontxSummaryDf_long = cellN_Df.copy()\n",
    "decontxSummaryDf_long = decontxSummaryDf_long.melt(id_vars= 'scExpName', var_name= 'process', value_name='nuclei#')\n",
    "decontxSummaryDf_long"
   ]
  },
  {
   "cell_type": "code",
   "execution_count": 72,
   "id": "6f59d62b-8b76-4884-b87b-a12201d62b7d",
   "metadata": {},
   "outputs": [
    {
     "data": {
      "image/png": "[encoded data removed]",
      "text/plain": [
       "<Figure size 1050x375 with 1 Axes>"
      ]
     },
     "metadata": {
      "image/png": {
       "height": 783,
       "width": 1217
      }
     },
     "output_type": "display_data"
    }
   ],
   "source": [
    "### decontx1-scruplet\n",
    "with rc_context({'figure.figsize': (7, 2.5)}):\n",
    "    sns.barplot(data=decontxSummaryDf_long, x='scExpName', y='nuclei#', hue='process')\n",
    "    plt.xticks(rotation=90)\n",
    "    plt.legend(bbox_to_anchor=(1.0, 1.0))"
   ]
  },
  {
   "cell_type": "code",
   "execution_count": null,
   "id": "6a324bfb-a008-425c-a82e-8b0fb2fd5f7c",
   "metadata": {},
   "outputs": [],
   "source": []
  }
 ],
 "metadata": {
  "kernelspec": {
   "display_name": "Python 3",
   "language": "python",
   "name": "python3"
  },
  "language_info": {
   "codemirror_mode": {
    "name": "ipython",
    "version": 3
   },
   "file_extension": ".py",
   "mimetype": "text/x-python",
   "name": "python",
   "nbconvert_exporter": "python",
   "pygments_lexer": "ipython3",
   "version": "3.9.19"
  }
 },
 "nbformat": 4,
 "nbformat_minor": 5
}
